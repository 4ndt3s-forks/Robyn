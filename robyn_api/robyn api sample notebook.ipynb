{
 "cells": [
  {
   "cell_type": "markdown",
   "id": "2732e831",
   "metadata": {},
   "source": [
    "## **Index:**\n",
    "- Please ensure R is installed on your machine and packages for Robyn have been installed\n",
    "- [Import necessary python packages](#import-python-packages)\n",
    "- Environment Setup:\n",
    "    - [Setting up environment on WINDOWS machine](#Setting-up-environment-on-WINDOWS-machine)\n",
    "    - [Setting up environment on LINUX machine](#Setting-up-environment-on-LINUX-machine)\n",
    "    - [Setting up environment on MAC](#Setting-up-environment-on-MAC)\n",
    "- Demo Script\n",
    "    - Provision API\n",
    "    - Get Data\n",
    "    - Robyn Inputs\n",
    "    - Robyn Run\n",
    "    - Robyn Outputs"
   ]
  },
  {
   "cell_type": "markdown",
   "id": "ff0f8da5",
   "metadata": {},
   "source": [
    "#### Import necessary python packages <a class=\"anchor\" id=\"import-python-packages\"></a>"
   ]
  },
  {
   "cell_type": "code",
   "execution_count": 2,
   "id": "15613b17",
   "metadata": {
    "vscode": {
     "languageId": "python"
    }
   },
   "outputs": [],
   "source": [
    "import pandas as pd\n",
    "import json\n",
    "import requests\n",
    "import json\n",
    "import datetime as dt\n",
    "import binascii\n",
    "import io\n",
    "import pandas as pd\n",
    "import os\n",
    "import sys\n",
    "import subprocess\n",
    "from urllib.request import urlopen\n",
    "from bs4 import BeautifulSoup\n",
    "\n",
    "import pprint\n",
    "from PIL import Image\n",
    "Image.MAX_IMAGE_PIXELS = 2**30"
   ]
  },
  {
   "cell_type": "markdown",
   "id": "04c6abc7",
   "metadata": {},
   "source": [
    "#### Setting up environment on WINDOWS machine <a class=\"anchor\" id=\"Setting-up-environment-on-WINDOWS-machine\"></a>\n",
    "\n",
    "#### Barebones command to run RobynAPI -> <font color='red'> ! START \"\" /B \"<path_where_R_is_installed>\\Rscript.exe\" \"<path_where_robyn_api_files_exist>\\api_call.R\" </font>\n",
    "1. Find location where R is installed on your machine. If the location is \"C:\\Program Files\\R\\R-4.2.2\\bin\\\" Then use this to replace <path_where_R_is_installed>\n",
    "2. Find where api files exist and replace it with <path_where_robyn_api_files_exist>\n",
    "    e.g. ! START \"\" /B \"C:\\Program Files\\R\\R-4.2.2\\bin\\Rscript.exe\" \"C:\\Documents\\GitHub\\robyn\\robyn_api\\api_call.R\""
   ]
  },
  {
   "cell_type": "code",
   "execution_count": 49,
   "id": "c4fac14d",
   "metadata": {},
   "outputs": [],
   "source": [
    "! START \"\" /B \"C:/Program Files/R/R-4.2.2/bin/Rscript.exe\" \"C:/Users/ebyjose/OneDrive - Facebook/Documents/GitHub/robyn/robyn_api/api_call.R\" 1>C:/Users/ebyjose/Robynlog.txt 2>&1"
   ]
  },
  {
   "cell_type": "code",
   "execution_count": 50,
   "id": "3bc1a04c",
   "metadata": {},
   "outputs": [
    {
     "name": "stdout",
     "output_type": "stream",
     "text": [
      "  TCP    127.0.0.1:9999         0.0.0.0:0              LISTENING       11220\n"
     ]
    }
   ],
   "source": [
    "#to find the endpoint running plumber\n",
    "! netstat -aon | find /i \"listening\" |find \"9999\""
   ]
  },
  {
   "cell_type": "code",
   "execution_count": 25,
   "id": "5f180311",
   "metadata": {
    "scrolled": true
   },
   "outputs": [],
   "source": [
    "# RscriptPath = \"C:/Program Files/R/R-4.2.2/bin/Rscript.exe\"\n",
    "# apiFilePath = \"C:/Users/ebyjose/OneDrive - Facebook/Documents/GitHub/robyn/robyn_api/api_call.R\"\n",
    "# logFilePath = \"C:/Users/ebyjose/Robynlog.txt\"\n",
    "\n",
    "# # currPath = os.getcwd()\n",
    "# # currPath = currPath.replace('\\\\','/')\n",
    "# # logFilePath ='\"'+ \"1> \"+ '\"' + currPath+\"/log.txt\"+ '\"' +\" 2>&1\" + '\"'\n",
    "\n",
    "# # p = subprocess.Popen([RscriptPath, apiFilePath, \"1> C:/log.txt 2>&1\"])\n",
    "# p = subprocess.call([\"START\", \"/B\", RscriptPath, apiFilePath, \"1>\", logFilePath , \"2>&1\" ])"
   ]
  },
  {
   "cell_type": "code",
   "execution_count": 52,
   "id": "8d49dcd8",
   "metadata": {},
   "outputs": [
    {
     "data": {
      "text/plain": [
       "0"
      ]
     },
     "execution_count": 52,
     "metadata": {},
     "output_type": "execute_result"
    }
   ],
   "source": [
    "# to close the API in windows\n",
    "endpoint = 11220\n",
    "subprocess.call(['taskkill', '/F', '/T', '/PID',  str(endpoint)])"
   ]
  },
  {
   "cell_type": "code",
   "execution_count": 44,
   "id": "a84dcefc",
   "metadata": {},
   "outputs": [
    {
     "data": {
      "text/plain": [
       "<Response [500]>"
      ]
     },
     "execution_count": 44,
     "metadata": {},
     "output_type": "execute_result"
    }
   ],
   "source": [
    "requests.post(apiBaseUrl.format('exit'),data=payload)"
   ]
  },
  {
   "cell_type": "markdown",
   "id": "14dc31fd",
   "metadata": {},
   "source": [
    "#### Steps to run RobynAPI if you are using a <u> LINUX </u> machine/server <a class=\"anchor\" id=\"Setting-up-environment-on-LINUX-machine\"></a>\n",
    "\n",
    "#### Barebones command to run RobynAPI -> <font color='red'> ! Rscript <path_where_robyn_api_files_exist>\\api_call.R &</font>\n",
    "1. Find location where R is installed on your machine. If the location is \"C:\\Program Files\\R\\R-4.2.2\\bin\\\" Then use this to replace <path_where_R_is_installed>\n",
    "2. Find where api files exist and replace it with <path_where_robyn_api_files_exist>\n",
    "    \n",
    "    e.g. # ! Rscript /home/robyn/robyn_api/api-call.R"
   ]
  },
  {
   "cell_type": "code",
   "execution_count": null,
   "id": "b0997a95",
   "metadata": {
    "vscode": {
     "languageId": "python"
    }
   },
   "outputs": [],
   "source": [
    "! Rscript <path_to_apifile>/api_call.R &"
   ]
  },
  {
   "cell_type": "markdown",
   "id": "918659b3",
   "metadata": {},
   "source": [
    "#### Steps to run RobynAPI if you are using a <u> MAC </u> <a class=\"anchor\" id=\"Setting-up-environment-on-MAC\"></a>\n",
    "\n",
    "#### Barebones command to run RobynAPI -> <font color='red'> subprocess.Popen([\"Rscript\", \"<path_to_apifile>/api_call.R\"])</font>\n",
    "1. Find where api files exist and replace it with <path_to_apifile>\n",
    "    \n",
    "    e.g. # subprocess.Popen([\"Rscript\", \"/home/robyn/robyn_api/api_call.R\"])"
   ]
  },
  {
   "cell_type": "code",
   "execution_count": null,
   "id": "d2a61e8d",
   "metadata": {
    "scrolled": false,
    "vscode": {
     "languageId": "python"
    }
   },
   "outputs": [],
   "source": [
    "p = subprocess.Popen([\"Rscript\", \"./api_call.R\"])"
   ]
  },
  {
   "cell_type": "code",
   "execution_count": null,
   "id": "3146fca3",
   "metadata": {},
   "outputs": [],
   "source": [
    "p.kill()\n",
    "p = subprocess.Popen([\"Rscript\", \"./api_call.R\"])"
   ]
  },
  {
   "cell_type": "markdown",
   "id": "5d66a463",
   "metadata": {},
   "source": [
    "## Demo file"
   ]
  },
  {
   "cell_type": "code",
   "execution_count": 5,
   "id": "beeb12c0",
   "metadata": {
    "scrolled": true,
    "vscode": {
     "languageId": "python"
    }
   },
   "outputs": [
    {
     "data": {
      "text/plain": [
       "dict_keys(['/dt_simulated_weekly', '/dt_prophet_holidays', '/robyn_inputs', '/robyn_run', '/robyn_outputs', '/robyn_onepagers', '/robyn_allocator', '/robyn_write', '/robyn_recreate'])"
      ]
     },
     "execution_count": 5,
     "metadata": {},
     "output_type": "execute_result"
    }
   ],
   "source": [
    "apiBaseUrl = \"http://127.0.0.1:9999/{}\"\n",
    "url = apiBaseUrl[:-3]+\"/openapi.json\"\n",
    "html = urlopen(url).read()\n",
    "soup = BeautifulSoup(html, features=\"html.parser\")\n",
    "apis = json.loads(soup.contents[0])\n",
    "apis['paths'].keys()"
   ]
  },
  {
   "cell_type": "markdown",
   "id": "4807f1da",
   "metadata": {},
   "source": [
    "# Define Functions"
   ]
  },
  {
   "cell_type": "code",
   "execution_count": 6,
   "id": "728d2fbc",
   "metadata": {
    "vscode": {
     "languageId": "python"
    }
   },
   "outputs": [],
   "source": [
    "hexToPng = lambda fileName, hexData: Image.open(io.BytesIO(binascii.unhexlify(hexData))).save(fileName, \"png\")\n",
    "dateConv = lambda date: dt.datetime.strptime(date, '%Y-%m-%d').date()"
   ]
  },
  {
   "cell_type": "code",
   "execution_count": 7,
   "id": "7b1908b3",
   "metadata": {
    "vscode": {
     "languageId": "python"
    }
   },
   "outputs": [],
   "source": [
    "def asSerialisedFeather(modelData):\n",
    "    modelDataFeather = io.BytesIO()\n",
    "    pd.DataFrame(modelData).to_feather(modelDataFeather)\n",
    "    modelDataFeather.seek(0)\n",
    "    modelDataBinary = modelDataFeather.read()\n",
    "    return binascii.hexlify(modelDataBinary).decode()"
   ]
  },
  {
   "cell_type": "markdown",
   "id": "5427aecb",
   "metadata": {},
   "source": [
    "# Get Data"
   ]
  },
  {
   "cell_type": "code",
   "execution_count": 8,
   "id": "189d93a5",
   "metadata": {
    "vscode": {
     "languageId": "python"
    }
   },
   "outputs": [],
   "source": [
    "# Get the sample dataset from Robyn api for use in later steps\n",
    "response = requests.post(apiBaseUrl.format('dt_simulated_weekly'))\n",
    "respJson = json.loads(response.content.decode('utf-8'))\n",
    "dtSimulatedWeekly = [{'DATE' : dateConv(rec['DATE']),**{col:rec[col]for col in rec if col!='DATE'}} for rec in respJson]\n",
    "dtSimulatedWeeklyDf = pd.DataFrame(dtSimulatedWeekly)"
   ]
  },
  {
   "cell_type": "code",
   "execution_count": 9,
   "id": "2ad540fc",
   "metadata": {
    "scrolled": false,
    "vscode": {
     "languageId": "python"
    }
   },
   "outputs": [
    {
     "data": {
      "text/html": [
       "<div>\n",
       "<style scoped>\n",
       "    .dataframe tbody tr th:only-of-type {\n",
       "        vertical-align: middle;\n",
       "    }\n",
       "\n",
       "    .dataframe tbody tr th {\n",
       "        vertical-align: top;\n",
       "    }\n",
       "\n",
       "    .dataframe thead th {\n",
       "        text-align: right;\n",
       "    }\n",
       "</style>\n",
       "<table border=\"1\" class=\"dataframe\">\n",
       "  <thead>\n",
       "    <tr style=\"text-align: right;\">\n",
       "      <th></th>\n",
       "      <th>DATE</th>\n",
       "      <th>revenue</th>\n",
       "      <th>tv_S</th>\n",
       "      <th>ooh_S</th>\n",
       "      <th>print_S</th>\n",
       "      <th>facebook_I</th>\n",
       "      <th>search_clicks_P</th>\n",
       "      <th>search_S</th>\n",
       "      <th>competitor_sales_B</th>\n",
       "      <th>facebook_S</th>\n",
       "      <th>events</th>\n",
       "      <th>newsletter</th>\n",
       "    </tr>\n",
       "  </thead>\n",
       "  <tbody>\n",
       "    <tr>\n",
       "      <th>0</th>\n",
       "      <td>2015-11-23</td>\n",
       "      <td>2.754372e+06</td>\n",
       "      <td>67075.04</td>\n",
       "      <td>0.0</td>\n",
       "      <td>38185.4667</td>\n",
       "      <td>7.290385e+07</td>\n",
       "      <td>0.0000</td>\n",
       "      <td>0</td>\n",
       "      <td>8125009</td>\n",
       "      <td>22821.3987</td>\n",
       "      <td>na</td>\n",
       "      <td>19401.6538</td>\n",
       "    </tr>\n",
       "    <tr>\n",
       "      <th>1</th>\n",
       "      <td>2015-11-30</td>\n",
       "      <td>2.584277e+06</td>\n",
       "      <td>85840.36</td>\n",
       "      <td>0.0</td>\n",
       "      <td>0.0000</td>\n",
       "      <td>1.658110e+07</td>\n",
       "      <td>29511.7155</td>\n",
       "      <td>12400</td>\n",
       "      <td>7901549</td>\n",
       "      <td>3425.8574</td>\n",
       "      <td>na</td>\n",
       "      <td>14791.0000</td>\n",
       "    </tr>\n",
       "    <tr>\n",
       "      <th>2</th>\n",
       "      <td>2015-12-07</td>\n",
       "      <td>2.547387e+06</td>\n",
       "      <td>0.00</td>\n",
       "      <td>396835.2</td>\n",
       "      <td>1361.6000</td>\n",
       "      <td>4.995477e+07</td>\n",
       "      <td>36132.3590</td>\n",
       "      <td>11360</td>\n",
       "      <td>8300197</td>\n",
       "      <td>12769.1261</td>\n",
       "      <td>na</td>\n",
       "      <td>14544.0000</td>\n",
       "    </tr>\n",
       "    <tr>\n",
       "      <th>3</th>\n",
       "      <td>2015-12-14</td>\n",
       "      <td>2.875220e+06</td>\n",
       "      <td>250350.92</td>\n",
       "      <td>0.0</td>\n",
       "      <td>53040.0000</td>\n",
       "      <td>3.164930e+07</td>\n",
       "      <td>36804.2110</td>\n",
       "      <td>12760</td>\n",
       "      <td>8122883</td>\n",
       "      <td>8401.4720</td>\n",
       "      <td>na</td>\n",
       "      <td>2800.0000</td>\n",
       "    </tr>\n",
       "    <tr>\n",
       "      <th>4</th>\n",
       "      <td>2015-12-21</td>\n",
       "      <td>2.215953e+06</td>\n",
       "      <td>0.00</td>\n",
       "      <td>832008.0</td>\n",
       "      <td>0.0000</td>\n",
       "      <td>8.802269e+06</td>\n",
       "      <td>28401.7441</td>\n",
       "      <td>10840</td>\n",
       "      <td>7105985</td>\n",
       "      <td>2068.7478</td>\n",
       "      <td>na</td>\n",
       "      <td>15478.0000</td>\n",
       "    </tr>\n",
       "  </tbody>\n",
       "</table>\n",
       "</div>"
      ],
      "text/plain": [
       "         DATE       revenue       tv_S     ooh_S     print_S    facebook_I  \\\n",
       "0  2015-11-23  2.754372e+06   67075.04       0.0  38185.4667  7.290385e+07   \n",
       "1  2015-11-30  2.584277e+06   85840.36       0.0      0.0000  1.658110e+07   \n",
       "2  2015-12-07  2.547387e+06       0.00  396835.2   1361.6000  4.995477e+07   \n",
       "3  2015-12-14  2.875220e+06  250350.92       0.0  53040.0000  3.164930e+07   \n",
       "4  2015-12-21  2.215953e+06       0.00  832008.0      0.0000  8.802269e+06   \n",
       "\n",
       "   search_clicks_P  search_S  competitor_sales_B  facebook_S events  \\\n",
       "0           0.0000         0             8125009  22821.3987     na   \n",
       "1       29511.7155     12400             7901549   3425.8574     na   \n",
       "2       36132.3590     11360             8300197  12769.1261     na   \n",
       "3       36804.2110     12760             8122883   8401.4720     na   \n",
       "4       28401.7441     10840             7105985   2068.7478     na   \n",
       "\n",
       "   newsletter  \n",
       "0  19401.6538  \n",
       "1  14791.0000  \n",
       "2  14544.0000  \n",
       "3   2800.0000  \n",
       "4  15478.0000  "
      ]
     },
     "execution_count": 9,
     "metadata": {},
     "output_type": "execute_result"
    }
   ],
   "source": [
    "dtSimulatedWeeklyDf.head()"
   ]
  },
  {
   "cell_type": "code",
   "execution_count": 10,
   "id": "f4914f85",
   "metadata": {
    "scrolled": true,
    "vscode": {
     "languageId": "python"
    }
   },
   "outputs": [
    {
     "data": {
      "text/html": [
       "<div>\n",
       "<style scoped>\n",
       "    .dataframe tbody tr th:only-of-type {\n",
       "        vertical-align: middle;\n",
       "    }\n",
       "\n",
       "    .dataframe tbody tr th {\n",
       "        vertical-align: top;\n",
       "    }\n",
       "\n",
       "    .dataframe thead th {\n",
       "        text-align: right;\n",
       "    }\n",
       "</style>\n",
       "<table border=\"1\" class=\"dataframe\">\n",
       "  <thead>\n",
       "    <tr style=\"text-align: right;\">\n",
       "      <th></th>\n",
       "      <th>ds</th>\n",
       "      <th>holiday</th>\n",
       "      <th>country</th>\n",
       "      <th>year</th>\n",
       "    </tr>\n",
       "  </thead>\n",
       "  <tbody>\n",
       "    <tr>\n",
       "      <th>0</th>\n",
       "      <td>1995-01-01</td>\n",
       "      <td>New Year's Day</td>\n",
       "      <td>AD</td>\n",
       "      <td>1995</td>\n",
       "    </tr>\n",
       "    <tr>\n",
       "      <th>1</th>\n",
       "      <td>1995-01-06</td>\n",
       "      <td>Epiphany</td>\n",
       "      <td>AD</td>\n",
       "      <td>1995</td>\n",
       "    </tr>\n",
       "    <tr>\n",
       "      <th>2</th>\n",
       "      <td>1995-02-28</td>\n",
       "      <td>Carnival</td>\n",
       "      <td>AD</td>\n",
       "      <td>1995</td>\n",
       "    </tr>\n",
       "    <tr>\n",
       "      <th>3</th>\n",
       "      <td>1995-03-14</td>\n",
       "      <td>Constitution Day</td>\n",
       "      <td>AD</td>\n",
       "      <td>1995</td>\n",
       "    </tr>\n",
       "    <tr>\n",
       "      <th>4</th>\n",
       "      <td>1995-04-14</td>\n",
       "      <td>Good Friday</td>\n",
       "      <td>AD</td>\n",
       "      <td>1995</td>\n",
       "    </tr>\n",
       "  </tbody>\n",
       "</table>\n",
       "</div>"
      ],
      "text/plain": [
       "           ds           holiday country  year\n",
       "0  1995-01-01    New Year's Day      AD  1995\n",
       "1  1995-01-06          Epiphany      AD  1995\n",
       "2  1995-02-28          Carnival      AD  1995\n",
       "3  1995-03-14  Constitution Day      AD  1995\n",
       "4  1995-04-14       Good Friday      AD  1995"
      ]
     },
     "execution_count": 10,
     "metadata": {},
     "output_type": "execute_result"
    }
   ],
   "source": [
    "# Get the sample dataset from Robyn api for use in later steps\n",
    "response = requests.post(apiBaseUrl.format('dt_prophet_holidays'))\n",
    "respJson = json.loads(response.content.decode('utf-8'))\n",
    "dt_prophet_holidays = pd.DataFrame(respJson)\n",
    "dt_prophet_holidays.head()"
   ]
  },
  {
   "cell_type": "markdown",
   "id": "1dc1c75d",
   "metadata": {},
   "source": [
    "# Robyn Input"
   ]
  },
  {
   "cell_type": "markdown",
   "id": "2004ab1b",
   "metadata": {},
   "source": [
    "## Step 2a: For first time user: Model specification in 4 steps\n",
    "### 2a-1: First, specify input variables\n",
    "    All sign control are now automatically provided: \"positive\" for media & organic\n",
    "    variables and \"default\" for all others. User can still customise signs if necessary.\n",
    "    Documentation is available, access it anytime by running: ?robyn_inputs"
   ]
  },
  {
   "cell_type": "code",
   "execution_count": 11,
   "id": "5232c068",
   "metadata": {},
   "outputs": [],
   "source": [
    "inputArgs = {\n",
    "    \"date_var\": \"DATE\",\n",
    "    \"dep_var\": \"revenue\",\n",
    "    \"dep_var_type\": \"revenue\",\n",
    "    \"prophet_vars\": [\"trend\", \"season\", \"holiday\"],\n",
    "    \"prophet_country\": \"DE\",\n",
    "    \"context_vars\" : [\"competitor_sales_B\", \"events\"],\n",
    "    \"paid_media_spends\": [\"tv_S\", \"ooh_S\", \"print_S\", \"facebook_S\", \"search_S\"],\n",
    "    \"paid_media_vars\": [\"tv_S\", \"ooh_S\", \"print_S\", \"facebook_I\", \"search_clicks_P\"],\n",
    "    \"organic_vars\" : \"newsletter\",\n",
    "    \"window_start\": \"2016-01-01\",\n",
    "    \"window_end\": \"2018-12-31\",\n",
    "    \"adstock\": \"geometric\"\n",
    "}"
   ]
  },
  {
   "cell_type": "code",
   "execution_count": 12,
   "id": "786eb4d5",
   "metadata": {},
   "outputs": [],
   "source": [
    "# Build the payload for the robyn_inputs()\n",
    "payload = {\n",
    "    'modelData' : asSerialisedFeather(dtSimulatedWeeklyDf), \n",
    "    'holidayData' : asSerialisedFeather(dt_prophet_holidays), \n",
    "    'jsonInputArgs' : json.dumps(inputArgs)\n",
    "}"
   ]
  },
  {
   "cell_type": "code",
   "execution_count": 13,
   "id": "b32c8e28",
   "metadata": {},
   "outputs": [],
   "source": [
    "# Get response\n",
    "response = requests.post(apiBaseUrl.format('robyn_inputs'),data=payload)\n",
    "respJson = json.loads(response.content.decode('utf-8'))\n",
    "InputCollect = respJson"
   ]
  },
  {
   "cell_type": "code",
   "execution_count": 14,
   "id": "49e936c9",
   "metadata": {
    "scrolled": true,
    "vscode": {
     "languageId": "python"
    }
   },
   "outputs": [
    {
     "data": {
      "text/plain": [
       "dict_keys(['dt_input', 'dt_holidays', 'dt_mod', 'dt_modRollWind', 'xDecompAggPrev', 'date_var', 'dayInterval', 'intervalType', 'dep_var', 'dep_var_type', 'prophet_vars', 'prophet_signs', 'prophet_country', 'context_vars', 'context_signs', 'paid_media_vars', 'paid_media_signs', 'paid_media_spends', 'paid_media_total', 'mediaVarCount', 'exposure_vars', 'organic_vars', 'organic_signs', 'all_media', 'all_ind_vars', 'factor_vars', 'unused_vars', 'window_start', 'rollingWindowStartWhich', 'window_end', 'rollingWindowEndWhich', 'rollingWindowLength', 'totalObservations', 'refreshAddedStart', 'adstock', 'hyperparameters', 'calibration_input', 'custom_params', 'version'])"
      ]
     },
     "execution_count": 14,
     "metadata": {},
     "output_type": "execute_result"
    }
   ],
   "source": [
    "InputCollect.keys()"
   ]
  },
  {
   "cell_type": "markdown",
   "id": "ad324bea",
   "metadata": {},
   "source": [
    "## 2a-2: Second, define and add hyperparameters\n",
    "    Default media variable for modelling has changed from paid_media_vars to paid_media_spends.\n",
    "    Also, calibration_input are required to be spend names.\n",
    "    hyperparameter names are based on paid_media_spends names too. See right hyperparameter names:"
   ]
  },
  {
   "cell_type": "code",
   "execution_count": null,
   "id": "99b258b4",
   "metadata": {},
   "outputs": [],
   "source": [
    "# hyper_names(adstock = InputCollect$adstock, all_media = InputCollect$all_media)"
   ]
  },
  {
   "cell_type": "code",
   "execution_count": 15,
   "id": "c39af576",
   "metadata": {},
   "outputs": [],
   "source": [
    "# Example hyperparameters ranges for Geometric adstock\n",
    "inputArgs = {\n",
    "    \"hyperparameters\" : {\n",
    "        \"facebook_S_alphas\" : [0.5, 3],\n",
    "        \"facebook_S_gammas\" : [0.3, 1],\n",
    "        \"facebook_S_thetas\" : [0, 0.3],\n",
    "        \"print_S_alphas\" : [0.5, 3],\n",
    "        \"print_S_gammas\" : [0.3, 1],\n",
    "        \"print_S_thetas\" : [0.1, 0.4],\n",
    "        \"tv_S_alphas\" : [0.5, 3],\n",
    "        \"tv_S_gammas\" : [0.3, 1],\n",
    "        \"tv_S_thetas\" : [0.3, 0.8],\n",
    "        \"search_S_alphas\" : [0.5, 3],\n",
    "        \"search_S_gammas\" : [0.3, 1],\n",
    "        \"search_S_thetas\" : [0, 0.3],\n",
    "        \"ooh_S_alphas\" : [0.5, 3],\n",
    "        \"ooh_S_gammas\" : [0.3, 1],\n",
    "        \"ooh_S_thetas\" : [0.1, 0.4],\n",
    "        \"newsletter_alphas\" : [0.5, 3],\n",
    "        \"newsletter_gammas\" : [0.3, 1],\n",
    "        \"newsletter_thetas\" : [0.1, 0.4],\n",
    "        \"train_size\": [0.5, 0.8]\n",
    "    }\n",
    "}"
   ]
  },
  {
   "cell_type": "markdown",
   "id": "2e4d5aae",
   "metadata": {},
   "source": [
    "## 2a-3: Third, add hyperparameters into robyn_inputs()"
   ]
  },
  {
   "cell_type": "code",
   "execution_count": 16,
   "id": "fa628f26",
   "metadata": {},
   "outputs": [],
   "source": [
    "payload = {\n",
    "    'InputCollect' : json.dumps(InputCollect), \n",
    "    'jsonInputArgs' : json.dumps(inputArgs)\n",
    "}"
   ]
  },
  {
   "cell_type": "code",
   "execution_count": 17,
   "id": "1231bf0e",
   "metadata": {
    "scrolled": true
   },
   "outputs": [],
   "source": [
    "# Get response\n",
    "response = requests.post(apiBaseUrl.format('robyn_inputs'),data=payload)\n",
    "respJson = json.loads(response.content.decode('utf-8'))\n",
    "InputCollect = respJson"
   ]
  },
  {
   "cell_type": "code",
   "execution_count": 18,
   "id": "d668a498",
   "metadata": {
    "scrolled": true
   },
   "outputs": [
    {
     "data": {
      "text/plain": [
       "dict_keys(['dt_input', 'dt_holidays', 'date_var', 'dayInterval', 'intervalType', 'dep_var', 'dep_var_type', 'prophet_vars', 'prophet_signs', 'prophet_country', 'context_vars', 'context_signs', 'paid_media_vars', 'paid_media_signs', 'paid_media_spends', 'paid_media_total', 'mediaVarCount', 'exposure_vars', 'organic_vars', 'organic_signs', 'all_media', 'all_ind_vars', 'factor_vars', 'window_start', 'rollingWindowStartWhich', 'window_end', 'rollingWindowEndWhich', 'rollingWindowLength', 'totalObservations', 'refreshAddedStart', 'adstock', 'version', 'hyperparameters', 'dt_mod', 'dt_modRollWind', 'dt_inputRollWind', 'modNLS'])"
      ]
     },
     "execution_count": 18,
     "metadata": {},
     "output_type": "execute_result"
    }
   ],
   "source": [
    "InputCollect.keys()"
   ]
  },
  {
   "cell_type": "markdown",
   "id": "5ae89982",
   "metadata": {},
   "source": [
    "## 2a-4: Fourth (optional), model calibration / add experimental input"
   ]
  },
  {
   "cell_type": "code",
   "execution_count": null,
   "id": "ee8766a3",
   "metadata": {},
   "outputs": [],
   "source": [
    "# calibration_input <- data.frame(\n",
    "#   # channel name must in paid_media_vars\n",
    "#   channel = c(\"facebook_S\",  \"tv_S\", \"facebook_S+search_S\", \"newsletter\"),\n",
    "#   # liftStartDate must be within input data range\n",
    "#   liftStartDate = as.Date(c(\"2018-05-01\", \"2018-04-03\", \"2018-07-01\", \"2017-12-01\")),\n",
    "#   # liftEndDate must be within input data range\n",
    "#   liftEndDate = as.Date(c(\"2018-06-10\", \"2018-06-03\", \"2018-07-20\", \"2017-12-31\")),\n",
    "#   # Provided value must be tested on same campaign level in model and same metric as dep_var_type\n",
    "#   liftAbs = c(400000, 300000, 700000, 200),\n",
    "#   # Spend within experiment: should match within a 10% error your spend on date range for each channel from dt_input\n",
    "#   spend = c(421000, 7100, 350000, 0),\n",
    "#   # Confidence: if frequentist experiment, you may use 1 - pvalue\n",
    "#   confidence = c(0.85, 0.8, 0.99, 0.95),\n",
    "#   # KPI measured: must match your dep_var\n",
    "#   metric = c(\"revenue\", \"revenue\", \"revenue\", \"revenue\"),\n",
    "#   # Either \"immediate\" or \"total\". For experimental inputs like Facebook Lift, \"immediate\" is recommended.\n",
    "#   calibration_scope = c(\"immediate\", \"immediate\", \"immediate\", \"immediate\")\n",
    "# )\n",
    "# calibration_input %>% as_tibble()\n",
    "# InputCollect <- robyn_inputs(InputCollect = InputCollect, calibration_input = calibration_input)\n"
   ]
  },
  {
   "cell_type": "code",
   "execution_count": null,
   "id": "62851b2b",
   "metadata": {},
   "outputs": [],
   "source": [
    "calibration_input = {\n",
    "    \"channel\": [\"facebook_S\",\"tv_S\",\"facebook_S+search_S\",\"newsletter\"],\n",
    "    \"liftStartDate\" : [\"2018-05-01\",\"2018-04-03\",\"2018-07-01\",\"2017-12-01\"],\n",
    "    \"liftEndDate\" : [\"2018-06-10\",\"2018-06-03\",\"2018-07-20\",\"2017-12-31\"],\n",
    "    \"liftAbs\" : [400000, 300000, 700000, 200],\n",
    "    \"spend\" : [421000, 7100, 350000, 0],\n",
    "    \"confidence\" : [0.85, 0.8, 0.99, 0.95],\n",
    "    \"metric\" : [\"revenue\",\"revenue\",\"revenue\",\"revenue\"],\n",
    "    \"calibration_scope\" : [\"immediate\",\"immediate\",\"immediate\",\"immediate\"]\n",
    "}\n",
    "calibration_input = pd.DataFrame(calibration_input)\n",
    "calibration_input"
   ]
  },
  {
   "cell_type": "code",
   "execution_count": null,
   "id": "44659966",
   "metadata": {},
   "outputs": [],
   "source": [
    "payload = {\n",
    "    'InputCollect' : json.dumps(InputCollect), \n",
    "    'calibration_input' : asSerialisedFeather(calibration_input), \n",
    "}"
   ]
  },
  {
   "cell_type": "code",
   "execution_count": null,
   "id": "f0b2319e",
   "metadata": {},
   "outputs": [],
   "source": [
    "# Get response\n",
    "response = requests.post(apiBaseUrl.format('robyn_inputs'),data=payload)\n",
    "respJson = json.loads(response.content.decode('utf-8'))\n",
    "InputCollect = respJson"
   ]
  },
  {
   "cell_type": "code",
   "execution_count": null,
   "id": "c2c88a45",
   "metadata": {},
   "outputs": [],
   "source": [
    "InputCollect.keys()"
   ]
  },
  {
   "cell_type": "markdown",
   "id": "38cc9dc3",
   "metadata": {},
   "source": [
    "# Robyn Run"
   ]
  },
  {
   "cell_type": "code",
   "execution_count": 19,
   "id": "0d947b1f",
   "metadata": {
    "vscode": {
     "languageId": "python"
    }
   },
   "outputs": [],
   "source": [
    "runArgs = {\n",
    "    \"iterations\" : 800,\n",
    "    \"trials\" : 1, \n",
    "    \"ts_validation\" : True,\n",
    "    \"add_penalty_factor\" : False,\n",
    "    \"seed\" : 123\n",
    "}"
   ]
  },
  {
   "cell_type": "code",
   "execution_count": 20,
   "id": "92e25594",
   "metadata": {
    "vscode": {
     "languageId": "python"
    }
   },
   "outputs": [],
   "source": [
    "# Build the payload for the robyn run\n",
    "payload = {\n",
    "    'InputCollect' : json.dumps(InputCollect), \n",
    "    'jsonRunArgs' : json.dumps(runArgs)\n",
    "}"
   ]
  },
  {
   "cell_type": "code",
   "execution_count": 21,
   "id": "5646f67e",
   "metadata": {
    "scrolled": true,
    "vscode": {
     "languageId": "python"
    }
   },
   "outputs": [
    {
     "ename": "ConnectionError",
     "evalue": "('Connection aborted.', ConnectionResetError(10054, 'An existing connection was forcibly closed by the remote host', None, 10054, None))",
     "output_type": "error",
     "traceback": [
      "\u001b[1;31m---------------------------------------------------------------------------\u001b[0m",
      "\u001b[1;31mConnectionResetError\u001b[0m                      Traceback (most recent call last)",
      "File \u001b[1;32m~\\AppData\\Local\\anaconda3\\Lib\\site-packages\\urllib3\\connectionpool.py:714\u001b[0m, in \u001b[0;36mHTTPConnectionPool.urlopen\u001b[1;34m(self, method, url, body, headers, retries, redirect, assert_same_host, timeout, pool_timeout, release_conn, chunked, body_pos, **response_kw)\u001b[0m\n\u001b[0;32m    713\u001b[0m \u001b[38;5;66;03m# Make the request on the httplib connection object.\u001b[39;00m\n\u001b[1;32m--> 714\u001b[0m httplib_response \u001b[38;5;241m=\u001b[39m \u001b[38;5;28mself\u001b[39m\u001b[38;5;241m.\u001b[39m_make_request(\n\u001b[0;32m    715\u001b[0m     conn,\n\u001b[0;32m    716\u001b[0m     method,\n\u001b[0;32m    717\u001b[0m     url,\n\u001b[0;32m    718\u001b[0m     timeout\u001b[38;5;241m=\u001b[39mtimeout_obj,\n\u001b[0;32m    719\u001b[0m     body\u001b[38;5;241m=\u001b[39mbody,\n\u001b[0;32m    720\u001b[0m     headers\u001b[38;5;241m=\u001b[39mheaders,\n\u001b[0;32m    721\u001b[0m     chunked\u001b[38;5;241m=\u001b[39mchunked,\n\u001b[0;32m    722\u001b[0m )\n\u001b[0;32m    724\u001b[0m \u001b[38;5;66;03m# If we're going to release the connection in ``finally:``, then\u001b[39;00m\n\u001b[0;32m    725\u001b[0m \u001b[38;5;66;03m# the response doesn't need to know about the connection. Otherwise\u001b[39;00m\n\u001b[0;32m    726\u001b[0m \u001b[38;5;66;03m# it will also try to release it and we'll have a double-release\u001b[39;00m\n\u001b[0;32m    727\u001b[0m \u001b[38;5;66;03m# mess.\u001b[39;00m\n",
      "File \u001b[1;32m~\\AppData\\Local\\anaconda3\\Lib\\site-packages\\urllib3\\connectionpool.py:466\u001b[0m, in \u001b[0;36mHTTPConnectionPool._make_request\u001b[1;34m(self, conn, method, url, timeout, chunked, **httplib_request_kw)\u001b[0m\n\u001b[0;32m    462\u001b[0m         \u001b[38;5;28;01mexcept\u001b[39;00m \u001b[38;5;167;01mBaseException\u001b[39;00m \u001b[38;5;28;01mas\u001b[39;00m e:\n\u001b[0;32m    463\u001b[0m             \u001b[38;5;66;03m# Remove the TypeError from the exception chain in\u001b[39;00m\n\u001b[0;32m    464\u001b[0m             \u001b[38;5;66;03m# Python 3 (including for exceptions like SystemExit).\u001b[39;00m\n\u001b[0;32m    465\u001b[0m             \u001b[38;5;66;03m# Otherwise it looks like a bug in the code.\u001b[39;00m\n\u001b[1;32m--> 466\u001b[0m             six\u001b[38;5;241m.\u001b[39mraise_from(e, \u001b[38;5;28;01mNone\u001b[39;00m)\n\u001b[0;32m    467\u001b[0m \u001b[38;5;28;01mexcept\u001b[39;00m (SocketTimeout, BaseSSLError, SocketError) \u001b[38;5;28;01mas\u001b[39;00m e:\n",
      "File \u001b[1;32m<string>:3\u001b[0m, in \u001b[0;36mraise_from\u001b[1;34m(value, from_value)\u001b[0m\n",
      "File \u001b[1;32m~\\AppData\\Local\\anaconda3\\Lib\\site-packages\\urllib3\\connectionpool.py:461\u001b[0m, in \u001b[0;36mHTTPConnectionPool._make_request\u001b[1;34m(self, conn, method, url, timeout, chunked, **httplib_request_kw)\u001b[0m\n\u001b[0;32m    460\u001b[0m \u001b[38;5;28;01mtry\u001b[39;00m:\n\u001b[1;32m--> 461\u001b[0m     httplib_response \u001b[38;5;241m=\u001b[39m conn\u001b[38;5;241m.\u001b[39mgetresponse()\n\u001b[0;32m    462\u001b[0m \u001b[38;5;28;01mexcept\u001b[39;00m \u001b[38;5;167;01mBaseException\u001b[39;00m \u001b[38;5;28;01mas\u001b[39;00m e:\n\u001b[0;32m    463\u001b[0m     \u001b[38;5;66;03m# Remove the TypeError from the exception chain in\u001b[39;00m\n\u001b[0;32m    464\u001b[0m     \u001b[38;5;66;03m# Python 3 (including for exceptions like SystemExit).\u001b[39;00m\n\u001b[0;32m    465\u001b[0m     \u001b[38;5;66;03m# Otherwise it looks like a bug in the code.\u001b[39;00m\n",
      "File \u001b[1;32m~\\AppData\\Local\\anaconda3\\Lib\\http\\client.py:1378\u001b[0m, in \u001b[0;36mHTTPConnection.getresponse\u001b[1;34m(self)\u001b[0m\n\u001b[0;32m   1377\u001b[0m \u001b[38;5;28;01mtry\u001b[39;00m:\n\u001b[1;32m-> 1378\u001b[0m     response\u001b[38;5;241m.\u001b[39mbegin()\n\u001b[0;32m   1379\u001b[0m \u001b[38;5;28;01mexcept\u001b[39;00m \u001b[38;5;167;01mConnectionError\u001b[39;00m:\n",
      "File \u001b[1;32m~\\AppData\\Local\\anaconda3\\Lib\\http\\client.py:318\u001b[0m, in \u001b[0;36mHTTPResponse.begin\u001b[1;34m(self)\u001b[0m\n\u001b[0;32m    317\u001b[0m \u001b[38;5;28;01mwhile\u001b[39;00m \u001b[38;5;28;01mTrue\u001b[39;00m:\n\u001b[1;32m--> 318\u001b[0m     version, status, reason \u001b[38;5;241m=\u001b[39m \u001b[38;5;28mself\u001b[39m\u001b[38;5;241m.\u001b[39m_read_status()\n\u001b[0;32m    319\u001b[0m     \u001b[38;5;28;01mif\u001b[39;00m status \u001b[38;5;241m!=\u001b[39m CONTINUE:\n",
      "File \u001b[1;32m~\\AppData\\Local\\anaconda3\\Lib\\http\\client.py:279\u001b[0m, in \u001b[0;36mHTTPResponse._read_status\u001b[1;34m(self)\u001b[0m\n\u001b[0;32m    278\u001b[0m \u001b[38;5;28;01mdef\u001b[39;00m \u001b[38;5;21m_read_status\u001b[39m(\u001b[38;5;28mself\u001b[39m):\n\u001b[1;32m--> 279\u001b[0m     line \u001b[38;5;241m=\u001b[39m \u001b[38;5;28mstr\u001b[39m(\u001b[38;5;28mself\u001b[39m\u001b[38;5;241m.\u001b[39mfp\u001b[38;5;241m.\u001b[39mreadline(_MAXLINE \u001b[38;5;241m+\u001b[39m \u001b[38;5;241m1\u001b[39m), \u001b[38;5;124m\"\u001b[39m\u001b[38;5;124miso-8859-1\u001b[39m\u001b[38;5;124m\"\u001b[39m)\n\u001b[0;32m    280\u001b[0m     \u001b[38;5;28;01mif\u001b[39;00m \u001b[38;5;28mlen\u001b[39m(line) \u001b[38;5;241m>\u001b[39m _MAXLINE:\n",
      "File \u001b[1;32m~\\AppData\\Local\\anaconda3\\Lib\\socket.py:706\u001b[0m, in \u001b[0;36mSocketIO.readinto\u001b[1;34m(self, b)\u001b[0m\n\u001b[0;32m    705\u001b[0m \u001b[38;5;28;01mtry\u001b[39;00m:\n\u001b[1;32m--> 706\u001b[0m     \u001b[38;5;28;01mreturn\u001b[39;00m \u001b[38;5;28mself\u001b[39m\u001b[38;5;241m.\u001b[39m_sock\u001b[38;5;241m.\u001b[39mrecv_into(b)\n\u001b[0;32m    707\u001b[0m \u001b[38;5;28;01mexcept\u001b[39;00m timeout:\n",
      "\u001b[1;31mConnectionResetError\u001b[0m: [WinError 10054] An existing connection was forcibly closed by the remote host",
      "\nDuring handling of the above exception, another exception occurred:\n",
      "\u001b[1;31mProtocolError\u001b[0m                             Traceback (most recent call last)",
      "File \u001b[1;32m~\\AppData\\Local\\anaconda3\\Lib\\site-packages\\requests\\adapters.py:486\u001b[0m, in \u001b[0;36mHTTPAdapter.send\u001b[1;34m(self, request, stream, timeout, verify, cert, proxies)\u001b[0m\n\u001b[0;32m    485\u001b[0m \u001b[38;5;28;01mtry\u001b[39;00m:\n\u001b[1;32m--> 486\u001b[0m     resp \u001b[38;5;241m=\u001b[39m conn\u001b[38;5;241m.\u001b[39murlopen(\n\u001b[0;32m    487\u001b[0m         method\u001b[38;5;241m=\u001b[39mrequest\u001b[38;5;241m.\u001b[39mmethod,\n\u001b[0;32m    488\u001b[0m         url\u001b[38;5;241m=\u001b[39murl,\n\u001b[0;32m    489\u001b[0m         body\u001b[38;5;241m=\u001b[39mrequest\u001b[38;5;241m.\u001b[39mbody,\n\u001b[0;32m    490\u001b[0m         headers\u001b[38;5;241m=\u001b[39mrequest\u001b[38;5;241m.\u001b[39mheaders,\n\u001b[0;32m    491\u001b[0m         redirect\u001b[38;5;241m=\u001b[39m\u001b[38;5;28;01mFalse\u001b[39;00m,\n\u001b[0;32m    492\u001b[0m         assert_same_host\u001b[38;5;241m=\u001b[39m\u001b[38;5;28;01mFalse\u001b[39;00m,\n\u001b[0;32m    493\u001b[0m         preload_content\u001b[38;5;241m=\u001b[39m\u001b[38;5;28;01mFalse\u001b[39;00m,\n\u001b[0;32m    494\u001b[0m         decode_content\u001b[38;5;241m=\u001b[39m\u001b[38;5;28;01mFalse\u001b[39;00m,\n\u001b[0;32m    495\u001b[0m         retries\u001b[38;5;241m=\u001b[39m\u001b[38;5;28mself\u001b[39m\u001b[38;5;241m.\u001b[39mmax_retries,\n\u001b[0;32m    496\u001b[0m         timeout\u001b[38;5;241m=\u001b[39mtimeout,\n\u001b[0;32m    497\u001b[0m         chunked\u001b[38;5;241m=\u001b[39mchunked,\n\u001b[0;32m    498\u001b[0m     )\n\u001b[0;32m    500\u001b[0m \u001b[38;5;28;01mexcept\u001b[39;00m (ProtocolError, \u001b[38;5;167;01mOSError\u001b[39;00m) \u001b[38;5;28;01mas\u001b[39;00m err:\n",
      "File \u001b[1;32m~\\AppData\\Local\\anaconda3\\Lib\\site-packages\\urllib3\\connectionpool.py:798\u001b[0m, in \u001b[0;36mHTTPConnectionPool.urlopen\u001b[1;34m(self, method, url, body, headers, retries, redirect, assert_same_host, timeout, pool_timeout, release_conn, chunked, body_pos, **response_kw)\u001b[0m\n\u001b[0;32m    796\u001b[0m     e \u001b[38;5;241m=\u001b[39m ProtocolError(\u001b[38;5;124m\"\u001b[39m\u001b[38;5;124mConnection aborted.\u001b[39m\u001b[38;5;124m\"\u001b[39m, e)\n\u001b[1;32m--> 798\u001b[0m retries \u001b[38;5;241m=\u001b[39m retries\u001b[38;5;241m.\u001b[39mincrement(\n\u001b[0;32m    799\u001b[0m     method, url, error\u001b[38;5;241m=\u001b[39me, _pool\u001b[38;5;241m=\u001b[39m\u001b[38;5;28mself\u001b[39m, _stacktrace\u001b[38;5;241m=\u001b[39msys\u001b[38;5;241m.\u001b[39mexc_info()[\u001b[38;5;241m2\u001b[39m]\n\u001b[0;32m    800\u001b[0m )\n\u001b[0;32m    801\u001b[0m retries\u001b[38;5;241m.\u001b[39msleep()\n",
      "File \u001b[1;32m~\\AppData\\Local\\anaconda3\\Lib\\site-packages\\urllib3\\util\\retry.py:550\u001b[0m, in \u001b[0;36mRetry.increment\u001b[1;34m(self, method, url, response, error, _pool, _stacktrace)\u001b[0m\n\u001b[0;32m    549\u001b[0m \u001b[38;5;28;01mif\u001b[39;00m read \u001b[38;5;129;01mis\u001b[39;00m \u001b[38;5;28;01mFalse\u001b[39;00m \u001b[38;5;129;01mor\u001b[39;00m \u001b[38;5;129;01mnot\u001b[39;00m \u001b[38;5;28mself\u001b[39m\u001b[38;5;241m.\u001b[39m_is_method_retryable(method):\n\u001b[1;32m--> 550\u001b[0m     \u001b[38;5;28;01mraise\u001b[39;00m six\u001b[38;5;241m.\u001b[39mreraise(\u001b[38;5;28mtype\u001b[39m(error), error, _stacktrace)\n\u001b[0;32m    551\u001b[0m \u001b[38;5;28;01melif\u001b[39;00m read \u001b[38;5;129;01mis\u001b[39;00m \u001b[38;5;129;01mnot\u001b[39;00m \u001b[38;5;28;01mNone\u001b[39;00m:\n",
      "File \u001b[1;32m~\\AppData\\Local\\anaconda3\\Lib\\site-packages\\urllib3\\packages\\six.py:769\u001b[0m, in \u001b[0;36mreraise\u001b[1;34m(tp, value, tb)\u001b[0m\n\u001b[0;32m    768\u001b[0m \u001b[38;5;28;01mif\u001b[39;00m value\u001b[38;5;241m.\u001b[39m__traceback__ \u001b[38;5;129;01mis\u001b[39;00m \u001b[38;5;129;01mnot\u001b[39;00m tb:\n\u001b[1;32m--> 769\u001b[0m     \u001b[38;5;28;01mraise\u001b[39;00m value\u001b[38;5;241m.\u001b[39mwith_traceback(tb)\n\u001b[0;32m    770\u001b[0m \u001b[38;5;28;01mraise\u001b[39;00m value\n",
      "File \u001b[1;32m~\\AppData\\Local\\anaconda3\\Lib\\site-packages\\urllib3\\connectionpool.py:714\u001b[0m, in \u001b[0;36mHTTPConnectionPool.urlopen\u001b[1;34m(self, method, url, body, headers, retries, redirect, assert_same_host, timeout, pool_timeout, release_conn, chunked, body_pos, **response_kw)\u001b[0m\n\u001b[0;32m    713\u001b[0m \u001b[38;5;66;03m# Make the request on the httplib connection object.\u001b[39;00m\n\u001b[1;32m--> 714\u001b[0m httplib_response \u001b[38;5;241m=\u001b[39m \u001b[38;5;28mself\u001b[39m\u001b[38;5;241m.\u001b[39m_make_request(\n\u001b[0;32m    715\u001b[0m     conn,\n\u001b[0;32m    716\u001b[0m     method,\n\u001b[0;32m    717\u001b[0m     url,\n\u001b[0;32m    718\u001b[0m     timeout\u001b[38;5;241m=\u001b[39mtimeout_obj,\n\u001b[0;32m    719\u001b[0m     body\u001b[38;5;241m=\u001b[39mbody,\n\u001b[0;32m    720\u001b[0m     headers\u001b[38;5;241m=\u001b[39mheaders,\n\u001b[0;32m    721\u001b[0m     chunked\u001b[38;5;241m=\u001b[39mchunked,\n\u001b[0;32m    722\u001b[0m )\n\u001b[0;32m    724\u001b[0m \u001b[38;5;66;03m# If we're going to release the connection in ``finally:``, then\u001b[39;00m\n\u001b[0;32m    725\u001b[0m \u001b[38;5;66;03m# the response doesn't need to know about the connection. Otherwise\u001b[39;00m\n\u001b[0;32m    726\u001b[0m \u001b[38;5;66;03m# it will also try to release it and we'll have a double-release\u001b[39;00m\n\u001b[0;32m    727\u001b[0m \u001b[38;5;66;03m# mess.\u001b[39;00m\n",
      "File \u001b[1;32m~\\AppData\\Local\\anaconda3\\Lib\\site-packages\\urllib3\\connectionpool.py:466\u001b[0m, in \u001b[0;36mHTTPConnectionPool._make_request\u001b[1;34m(self, conn, method, url, timeout, chunked, **httplib_request_kw)\u001b[0m\n\u001b[0;32m    462\u001b[0m         \u001b[38;5;28;01mexcept\u001b[39;00m \u001b[38;5;167;01mBaseException\u001b[39;00m \u001b[38;5;28;01mas\u001b[39;00m e:\n\u001b[0;32m    463\u001b[0m             \u001b[38;5;66;03m# Remove the TypeError from the exception chain in\u001b[39;00m\n\u001b[0;32m    464\u001b[0m             \u001b[38;5;66;03m# Python 3 (including for exceptions like SystemExit).\u001b[39;00m\n\u001b[0;32m    465\u001b[0m             \u001b[38;5;66;03m# Otherwise it looks like a bug in the code.\u001b[39;00m\n\u001b[1;32m--> 466\u001b[0m             six\u001b[38;5;241m.\u001b[39mraise_from(e, \u001b[38;5;28;01mNone\u001b[39;00m)\n\u001b[0;32m    467\u001b[0m \u001b[38;5;28;01mexcept\u001b[39;00m (SocketTimeout, BaseSSLError, SocketError) \u001b[38;5;28;01mas\u001b[39;00m e:\n",
      "File \u001b[1;32m<string>:3\u001b[0m, in \u001b[0;36mraise_from\u001b[1;34m(value, from_value)\u001b[0m\n",
      "File \u001b[1;32m~\\AppData\\Local\\anaconda3\\Lib\\site-packages\\urllib3\\connectionpool.py:461\u001b[0m, in \u001b[0;36mHTTPConnectionPool._make_request\u001b[1;34m(self, conn, method, url, timeout, chunked, **httplib_request_kw)\u001b[0m\n\u001b[0;32m    460\u001b[0m \u001b[38;5;28;01mtry\u001b[39;00m:\n\u001b[1;32m--> 461\u001b[0m     httplib_response \u001b[38;5;241m=\u001b[39m conn\u001b[38;5;241m.\u001b[39mgetresponse()\n\u001b[0;32m    462\u001b[0m \u001b[38;5;28;01mexcept\u001b[39;00m \u001b[38;5;167;01mBaseException\u001b[39;00m \u001b[38;5;28;01mas\u001b[39;00m e:\n\u001b[0;32m    463\u001b[0m     \u001b[38;5;66;03m# Remove the TypeError from the exception chain in\u001b[39;00m\n\u001b[0;32m    464\u001b[0m     \u001b[38;5;66;03m# Python 3 (including for exceptions like SystemExit).\u001b[39;00m\n\u001b[0;32m    465\u001b[0m     \u001b[38;5;66;03m# Otherwise it looks like a bug in the code.\u001b[39;00m\n",
      "File \u001b[1;32m~\\AppData\\Local\\anaconda3\\Lib\\http\\client.py:1378\u001b[0m, in \u001b[0;36mHTTPConnection.getresponse\u001b[1;34m(self)\u001b[0m\n\u001b[0;32m   1377\u001b[0m \u001b[38;5;28;01mtry\u001b[39;00m:\n\u001b[1;32m-> 1378\u001b[0m     response\u001b[38;5;241m.\u001b[39mbegin()\n\u001b[0;32m   1379\u001b[0m \u001b[38;5;28;01mexcept\u001b[39;00m \u001b[38;5;167;01mConnectionError\u001b[39;00m:\n",
      "File \u001b[1;32m~\\AppData\\Local\\anaconda3\\Lib\\http\\client.py:318\u001b[0m, in \u001b[0;36mHTTPResponse.begin\u001b[1;34m(self)\u001b[0m\n\u001b[0;32m    317\u001b[0m \u001b[38;5;28;01mwhile\u001b[39;00m \u001b[38;5;28;01mTrue\u001b[39;00m:\n\u001b[1;32m--> 318\u001b[0m     version, status, reason \u001b[38;5;241m=\u001b[39m \u001b[38;5;28mself\u001b[39m\u001b[38;5;241m.\u001b[39m_read_status()\n\u001b[0;32m    319\u001b[0m     \u001b[38;5;28;01mif\u001b[39;00m status \u001b[38;5;241m!=\u001b[39m CONTINUE:\n",
      "File \u001b[1;32m~\\AppData\\Local\\anaconda3\\Lib\\http\\client.py:279\u001b[0m, in \u001b[0;36mHTTPResponse._read_status\u001b[1;34m(self)\u001b[0m\n\u001b[0;32m    278\u001b[0m \u001b[38;5;28;01mdef\u001b[39;00m \u001b[38;5;21m_read_status\u001b[39m(\u001b[38;5;28mself\u001b[39m):\n\u001b[1;32m--> 279\u001b[0m     line \u001b[38;5;241m=\u001b[39m \u001b[38;5;28mstr\u001b[39m(\u001b[38;5;28mself\u001b[39m\u001b[38;5;241m.\u001b[39mfp\u001b[38;5;241m.\u001b[39mreadline(_MAXLINE \u001b[38;5;241m+\u001b[39m \u001b[38;5;241m1\u001b[39m), \u001b[38;5;124m\"\u001b[39m\u001b[38;5;124miso-8859-1\u001b[39m\u001b[38;5;124m\"\u001b[39m)\n\u001b[0;32m    280\u001b[0m     \u001b[38;5;28;01mif\u001b[39;00m \u001b[38;5;28mlen\u001b[39m(line) \u001b[38;5;241m>\u001b[39m _MAXLINE:\n",
      "File \u001b[1;32m~\\AppData\\Local\\anaconda3\\Lib\\socket.py:706\u001b[0m, in \u001b[0;36mSocketIO.readinto\u001b[1;34m(self, b)\u001b[0m\n\u001b[0;32m    705\u001b[0m \u001b[38;5;28;01mtry\u001b[39;00m:\n\u001b[1;32m--> 706\u001b[0m     \u001b[38;5;28;01mreturn\u001b[39;00m \u001b[38;5;28mself\u001b[39m\u001b[38;5;241m.\u001b[39m_sock\u001b[38;5;241m.\u001b[39mrecv_into(b)\n\u001b[0;32m    707\u001b[0m \u001b[38;5;28;01mexcept\u001b[39;00m timeout:\n",
      "\u001b[1;31mProtocolError\u001b[0m: ('Connection aborted.', ConnectionResetError(10054, 'An existing connection was forcibly closed by the remote host', None, 10054, None))",
      "\nDuring handling of the above exception, another exception occurred:\n",
      "\u001b[1;31mConnectionError\u001b[0m                           Traceback (most recent call last)",
      "Cell \u001b[1;32mIn[21], line 2\u001b[0m\n\u001b[0;32m      1\u001b[0m \u001b[38;5;66;03m# Get response\u001b[39;00m\n\u001b[1;32m----> 2\u001b[0m response \u001b[38;5;241m=\u001b[39m requests\u001b[38;5;241m.\u001b[39mpost(apiBaseUrl\u001b[38;5;241m.\u001b[39mformat(\u001b[38;5;124m'\u001b[39m\u001b[38;5;124mrobyn_run\u001b[39m\u001b[38;5;124m'\u001b[39m),data\u001b[38;5;241m=\u001b[39mpayload)\n\u001b[0;32m      3\u001b[0m respJson \u001b[38;5;241m=\u001b[39m json\u001b[38;5;241m.\u001b[39mloads(response\u001b[38;5;241m.\u001b[39mcontent\u001b[38;5;241m.\u001b[39mdecode(\u001b[38;5;124m'\u001b[39m\u001b[38;5;124mutf-8\u001b[39m\u001b[38;5;124m'\u001b[39m))\n\u001b[0;32m      4\u001b[0m OutputModels \u001b[38;5;241m=\u001b[39m respJson\n",
      "File \u001b[1;32m~\\AppData\\Local\\anaconda3\\Lib\\site-packages\\requests\\api.py:115\u001b[0m, in \u001b[0;36mpost\u001b[1;34m(url, data, json, **kwargs)\u001b[0m\n\u001b[0;32m    103\u001b[0m \u001b[38;5;28;01mdef\u001b[39;00m \u001b[38;5;21mpost\u001b[39m(url, data\u001b[38;5;241m=\u001b[39m\u001b[38;5;28;01mNone\u001b[39;00m, json\u001b[38;5;241m=\u001b[39m\u001b[38;5;28;01mNone\u001b[39;00m, \u001b[38;5;241m*\u001b[39m\u001b[38;5;241m*\u001b[39mkwargs):\n\u001b[0;32m    104\u001b[0m \u001b[38;5;250m    \u001b[39m\u001b[38;5;124mr\u001b[39m\u001b[38;5;124;03m\"\"\"Sends a POST request.\u001b[39;00m\n\u001b[0;32m    105\u001b[0m \n\u001b[0;32m    106\u001b[0m \u001b[38;5;124;03m    :param url: URL for the new :class:`Request` object.\u001b[39;00m\n\u001b[1;32m   (...)\u001b[0m\n\u001b[0;32m    112\u001b[0m \u001b[38;5;124;03m    :rtype: requests.Response\u001b[39;00m\n\u001b[0;32m    113\u001b[0m \u001b[38;5;124;03m    \"\"\"\u001b[39;00m\n\u001b[1;32m--> 115\u001b[0m     \u001b[38;5;28;01mreturn\u001b[39;00m request(\u001b[38;5;124m\"\u001b[39m\u001b[38;5;124mpost\u001b[39m\u001b[38;5;124m\"\u001b[39m, url, data\u001b[38;5;241m=\u001b[39mdata, json\u001b[38;5;241m=\u001b[39mjson, \u001b[38;5;241m*\u001b[39m\u001b[38;5;241m*\u001b[39mkwargs)\n",
      "File \u001b[1;32m~\\AppData\\Local\\anaconda3\\Lib\\site-packages\\requests\\api.py:59\u001b[0m, in \u001b[0;36mrequest\u001b[1;34m(method, url, **kwargs)\u001b[0m\n\u001b[0;32m     55\u001b[0m \u001b[38;5;66;03m# By using the 'with' statement we are sure the session is closed, thus we\u001b[39;00m\n\u001b[0;32m     56\u001b[0m \u001b[38;5;66;03m# avoid leaving sockets open which can trigger a ResourceWarning in some\u001b[39;00m\n\u001b[0;32m     57\u001b[0m \u001b[38;5;66;03m# cases, and look like a memory leak in others.\u001b[39;00m\n\u001b[0;32m     58\u001b[0m \u001b[38;5;28;01mwith\u001b[39;00m sessions\u001b[38;5;241m.\u001b[39mSession() \u001b[38;5;28;01mas\u001b[39;00m session:\n\u001b[1;32m---> 59\u001b[0m     \u001b[38;5;28;01mreturn\u001b[39;00m session\u001b[38;5;241m.\u001b[39mrequest(method\u001b[38;5;241m=\u001b[39mmethod, url\u001b[38;5;241m=\u001b[39murl, \u001b[38;5;241m*\u001b[39m\u001b[38;5;241m*\u001b[39mkwargs)\n",
      "File \u001b[1;32m~\\AppData\\Local\\anaconda3\\Lib\\site-packages\\requests\\sessions.py:589\u001b[0m, in \u001b[0;36mSession.request\u001b[1;34m(self, method, url, params, data, headers, cookies, files, auth, timeout, allow_redirects, proxies, hooks, stream, verify, cert, json)\u001b[0m\n\u001b[0;32m    584\u001b[0m send_kwargs \u001b[38;5;241m=\u001b[39m {\n\u001b[0;32m    585\u001b[0m     \u001b[38;5;124m\"\u001b[39m\u001b[38;5;124mtimeout\u001b[39m\u001b[38;5;124m\"\u001b[39m: timeout,\n\u001b[0;32m    586\u001b[0m     \u001b[38;5;124m\"\u001b[39m\u001b[38;5;124mallow_redirects\u001b[39m\u001b[38;5;124m\"\u001b[39m: allow_redirects,\n\u001b[0;32m    587\u001b[0m }\n\u001b[0;32m    588\u001b[0m send_kwargs\u001b[38;5;241m.\u001b[39mupdate(settings)\n\u001b[1;32m--> 589\u001b[0m resp \u001b[38;5;241m=\u001b[39m \u001b[38;5;28mself\u001b[39m\u001b[38;5;241m.\u001b[39msend(prep, \u001b[38;5;241m*\u001b[39m\u001b[38;5;241m*\u001b[39msend_kwargs)\n\u001b[0;32m    591\u001b[0m \u001b[38;5;28;01mreturn\u001b[39;00m resp\n",
      "File \u001b[1;32m~\\AppData\\Local\\anaconda3\\Lib\\site-packages\\requests\\sessions.py:703\u001b[0m, in \u001b[0;36mSession.send\u001b[1;34m(self, request, **kwargs)\u001b[0m\n\u001b[0;32m    700\u001b[0m start \u001b[38;5;241m=\u001b[39m preferred_clock()\n\u001b[0;32m    702\u001b[0m \u001b[38;5;66;03m# Send the request\u001b[39;00m\n\u001b[1;32m--> 703\u001b[0m r \u001b[38;5;241m=\u001b[39m adapter\u001b[38;5;241m.\u001b[39msend(request, \u001b[38;5;241m*\u001b[39m\u001b[38;5;241m*\u001b[39mkwargs)\n\u001b[0;32m    705\u001b[0m \u001b[38;5;66;03m# Total elapsed time of the request (approximately)\u001b[39;00m\n\u001b[0;32m    706\u001b[0m elapsed \u001b[38;5;241m=\u001b[39m preferred_clock() \u001b[38;5;241m-\u001b[39m start\n",
      "File \u001b[1;32m~\\AppData\\Local\\anaconda3\\Lib\\site-packages\\requests\\adapters.py:501\u001b[0m, in \u001b[0;36mHTTPAdapter.send\u001b[1;34m(self, request, stream, timeout, verify, cert, proxies)\u001b[0m\n\u001b[0;32m    486\u001b[0m     resp \u001b[38;5;241m=\u001b[39m conn\u001b[38;5;241m.\u001b[39murlopen(\n\u001b[0;32m    487\u001b[0m         method\u001b[38;5;241m=\u001b[39mrequest\u001b[38;5;241m.\u001b[39mmethod,\n\u001b[0;32m    488\u001b[0m         url\u001b[38;5;241m=\u001b[39murl,\n\u001b[1;32m   (...)\u001b[0m\n\u001b[0;32m    497\u001b[0m         chunked\u001b[38;5;241m=\u001b[39mchunked,\n\u001b[0;32m    498\u001b[0m     )\n\u001b[0;32m    500\u001b[0m \u001b[38;5;28;01mexcept\u001b[39;00m (ProtocolError, \u001b[38;5;167;01mOSError\u001b[39;00m) \u001b[38;5;28;01mas\u001b[39;00m err:\n\u001b[1;32m--> 501\u001b[0m     \u001b[38;5;28;01mraise\u001b[39;00m \u001b[38;5;167;01mConnectionError\u001b[39;00m(err, request\u001b[38;5;241m=\u001b[39mrequest)\n\u001b[0;32m    503\u001b[0m \u001b[38;5;28;01mexcept\u001b[39;00m MaxRetryError \u001b[38;5;28;01mas\u001b[39;00m e:\n\u001b[0;32m    504\u001b[0m     \u001b[38;5;28;01mif\u001b[39;00m \u001b[38;5;28misinstance\u001b[39m(e\u001b[38;5;241m.\u001b[39mreason, ConnectTimeoutError):\n\u001b[0;32m    505\u001b[0m         \u001b[38;5;66;03m# TODO: Remove this in 3.0.0: see #2811\u001b[39;00m\n",
      "\u001b[1;31mConnectionError\u001b[0m: ('Connection aborted.', ConnectionResetError(10054, 'An existing connection was forcibly closed by the remote host', None, 10054, None))"
     ]
    }
   ],
   "source": [
    "# Get response\n",
    "response = requests.post(apiBaseUrl.format('robyn_run'),data=payload)\n",
    "respJson = json.loads(response.content.decode('utf-8'))\n",
    "OutputModels = respJson"
   ]
  },
  {
   "cell_type": "code",
   "execution_count": null,
   "id": "1cd06da8",
   "metadata": {
    "vscode": {
     "languageId": "python"
    }
   },
   "outputs": [],
   "source": [
    "respJson.keys()"
   ]
  },
  {
   "cell_type": "markdown",
   "id": "c23a2cf6",
   "metadata": {},
   "source": [
    "# Robyn Outputs"
   ]
  },
  {
   "cell_type": "code",
   "execution_count": null,
   "id": "9e2fc4ea",
   "metadata": {},
   "outputs": [],
   "source": [
    "create_files = False\n",
    "robyn_directory = 'C:/Robyn/'"
   ]
  },
  {
   "cell_type": "code",
   "execution_count": null,
   "id": "c4d41344",
   "metadata": {
    "vscode": {
     "languageId": "python"
    }
   },
   "outputs": [],
   "source": [
    "outputsArgs = {\n",
    "    \"pareto_fronts\" : 'auto', # automatically pick how many pareto-fronts to fill min_candidates (100)\n",
    "    \"min_candidates\" : 10, # top pareto models for clustering. Default to 100\n",
    "    \"calibration_constraint\" : 0.1, # range c(0.01, 0.1) & default at 0.1\n",
    "    \"csv_out\" : \"pareto\", # \"pareto\", \"all\", or NULL (for none)\n",
    "    \"clusters\" : True, # Set to TRUE to cluster similar models by ROAS. See ?robyn_clusters\n",
    "    \"export\" : create_files, # this will create files locally\n",
    "    \"plot_folder\" : robyn_directory, # path for plots exports and files creation\n",
    "#     \"plot_pareto\" : create_files # Set to FALSE to deactivate plotting and saving model one-pagers\n",
    "}"
   ]
  },
  {
   "cell_type": "code",
   "execution_count": null,
   "id": "c9a0c0fb",
   "metadata": {
    "vscode": {
     "languageId": "python"
    }
   },
   "outputs": [],
   "source": [
    "# Build the payload for the robyn_outputs()\n",
    "payload = {\n",
    "    'InputCollect' : json.dumps(InputCollect),\n",
    "    'OutputModels' : json.dumps(OutputModels),\n",
    "    'jsonOutputsArgs' : json.dumps(outputsArgs)\n",
    "}"
   ]
  },
  {
   "cell_type": "code",
   "execution_count": null,
   "id": "79e4e9b1",
   "metadata": {
    "scrolled": true,
    "vscode": {
     "languageId": "python"
    }
   },
   "outputs": [],
   "source": [
    "# Get response\n",
    "response = requests.post(apiBaseUrl.format('robyn_outputs'),data=payload)\n",
    "respJson = json.loads(response.content.decode('utf-8'))\n",
    "OutputCollect = respJson"
   ]
  },
  {
   "cell_type": "code",
   "execution_count": null,
   "id": "2563cdfe",
   "metadata": {
    "scrolled": true,
    "vscode": {
     "languageId": "python"
    }
   },
   "outputs": [],
   "source": [
    "OutputCollect.keys()"
   ]
  },
  {
   "cell_type": "code",
   "execution_count": null,
   "id": "fc9227a1",
   "metadata": {
    "vscode": {
     "languageId": "python"
    }
   },
   "outputs": [],
   "source": [
    "sys.getsizeof(response.content.decode('utf-8')) / 1e+6"
   ]
  },
  {
   "cell_type": "code",
   "execution_count": null,
   "id": "eaa42d62",
   "metadata": {
    "scrolled": true,
    "vscode": {
     "languageId": "python"
    }
   },
   "outputs": [],
   "source": [
    "OutputCollect.keys()"
   ]
  },
  {
   "cell_type": "markdown",
   "id": "e7b9c3cf",
   "metadata": {},
   "source": [
    "# Robyn Onepager"
   ]
  },
  {
   "cell_type": "code",
   "execution_count": null,
   "id": "f0477007",
   "metadata": {
    "scrolled": true,
    "vscode": {
     "languageId": "python"
    }
   },
   "outputs": [],
   "source": [
    "pd.DataFrame(OutputCollect['clusters']['models']).T"
   ]
  },
  {
   "cell_type": "code",
   "execution_count": null,
   "id": "fd2566e4",
   "metadata": {
    "vscode": {
     "languageId": "python"
    }
   },
   "outputs": [],
   "source": [
    "for i in OutputCollect['clusters']['models']:\n",
    "    print(i['solID'])"
   ]
  },
  {
   "cell_type": "code",
   "execution_count": null,
   "id": "ce46d91f",
   "metadata": {
    "vscode": {
     "languageId": "python"
    }
   },
   "outputs": [],
   "source": [
    "select_model = '1_138_7'"
   ]
  },
  {
   "cell_type": "code",
   "execution_count": null,
   "id": "aa2048ac",
   "metadata": {
    "scrolled": true
   },
   "outputs": [],
   "source": [
    "onepagersArgs = {\n",
    "    \"select_model\" : select_model, # automatically pick how many pareto-fronts to fill min_candidates (100)\n",
    "    \"export\" : False, # this will create files locally\n",
    "}"
   ]
  },
  {
   "cell_type": "code",
   "execution_count": null,
   "id": "5376e387",
   "metadata": {
    "vscode": {
     "languageId": "python"
    }
   },
   "outputs": [],
   "source": [
    "# Build the payload for the robyn_onepagers()\n",
    "payload = {\n",
    "    'InputCollect' : json.dumps(InputCollect),\n",
    "    'OutputCollect' : json.dumps(OutputCollect),\n",
    "    \"jsonOnepagersArgs\": json.dumps(onepagersArgs),\n",
    "    'dpi' : 300,\n",
    "    'width' : 15,\n",
    "    'height' : 20\n",
    "}"
   ]
  },
  {
   "cell_type": "code",
   "execution_count": null,
   "id": "98da6f11",
   "metadata": {
    "vscode": {
     "languageId": "python"
    }
   },
   "outputs": [],
   "source": [
    "# Get response\n",
    "response = requests.post(apiBaseUrl.format('robyn_onepagers'),data=payload)\n",
    "respJson = json.loads(response.content.decode('utf-8'))\n",
    "onepager = respJson"
   ]
  },
  {
   "cell_type": "code",
   "execution_count": null,
   "id": "25715017",
   "metadata": {
    "scrolled": false
   },
   "outputs": [],
   "source": [
    "Image.open(io.BytesIO(binascii.unhexlify(\"\".join(onepager))))"
   ]
  },
  {
   "cell_type": "markdown",
   "id": "941718f5",
   "metadata": {},
   "source": [
    "# Robyn Allocator"
   ]
  },
  {
   "cell_type": "code",
   "execution_count": null,
   "id": "94e313ac",
   "metadata": {},
   "outputs": [],
   "source": [
    "allocatorArgs = {\n",
    "    \"select_model\" : select_model,\n",
    "#     \"date_range\" : None, # Default last month as initial period\n",
    "#     \"total_budget\" : None, # When NULL, default is total spend in date_range\n",
    "    \"channel_constr_low\" : 0.7,\n",
    "    \"channel_constr_up\" : 1.2,\n",
    "    \"channel_constr_multiplier\" : 3,\n",
    "    \"scenario\" : \"max_response\",\n",
    "    \"export\" : False,\n",
    "}"
   ]
  },
  {
   "cell_type": "code",
   "execution_count": null,
   "id": "5f853452",
   "metadata": {
    "vscode": {
     "languageId": "python"
    }
   },
   "outputs": [],
   "source": [
    "# Build the payload for the robyn_allocator()\n",
    "payload = {\n",
    "    'InputCollect' : json.dumps(InputCollect),\n",
    "    'OutputCollect' : json.dumps(OutputCollect),\n",
    "    \"jsonAllocatorArgs\": json.dumps(allocatorArgs),\n",
    "    'dpi' : 300,\n",
    "    'width' : 15,\n",
    "    'height' : 15\n",
    "}"
   ]
  },
  {
   "cell_type": "code",
   "execution_count": null,
   "id": "337eb394",
   "metadata": {
    "scrolled": true,
    "vscode": {
     "languageId": "python"
    }
   },
   "outputs": [],
   "source": [
    "# Get response\n",
    "response = requests.post(apiBaseUrl.format('robyn_allocator'),data=payload)\n",
    "respJson = json.loads(response.content.decode('utf-8'))\n",
    "allocator = respJson"
   ]
  },
  {
   "cell_type": "code",
   "execution_count": null,
   "id": "06ee665a",
   "metadata": {
    "scrolled": false,
    "vscode": {
     "languageId": "python"
    }
   },
   "outputs": [],
   "source": [
    "Image.open(io.BytesIO(binascii.unhexlify(\"\".join(allocator))))"
   ]
  },
  {
   "cell_type": "code",
   "execution_count": null,
   "id": "209bdeb9",
   "metadata": {},
   "outputs": [],
   "source": [
    "p.kill()"
   ]
  }
 ],
 "metadata": {
  "kernelspec": {
   "display_name": "Python 3 (ipykernel)",
   "language": "python",
   "name": "python3"
  },
  "language_info": {
   "codemirror_mode": {
    "name": "ipython",
    "version": 3
   },
   "file_extension": ".py",
   "mimetype": "text/x-python",
   "name": "python",
   "nbconvert_exporter": "python",
   "pygments_lexer": "ipython3",
   "version": "3.11.5"
  }
 },
 "nbformat": 4,
 "nbformat_minor": 5
}
