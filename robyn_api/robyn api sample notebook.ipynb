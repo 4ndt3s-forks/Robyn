{
 "cells": [
  {
   "cell_type": "markdown",
   "id": "2732e831",
   "metadata": {},
   "source": [
    "## **Index:**\n",
    "- Please ensure R is installed on your machine and packages for Robyn have been installed\n",
    "- [Import necessary python packages](#import-python-packages)\n",
    "- Environment Setup:\n",
    "    - [Setting up environment on WINDOWS machine](#Setting-up-environment-on-WINDOWS-machine)\n",
    "    - [Setting up environment on LINUX machine](#Setting-up-environment-on-LINUX-machine)\n",
    "    - [Setting up environment on MAC](#Setting-up-environment-on-MAC)\n",
    "- Demo Script\n",
    "    - Provision API\n",
    "    - Get Data\n",
    "    - Robyn Inputs\n",
    "    - Robyn Run\n",
    "    - Robyn Outputs"
   ]
  },
  {
   "cell_type": "markdown",
   "id": "ff0f8da5",
   "metadata": {},
   "source": [
    "#### Import necessary python packages <a class=\"anchor\" id=\"import-python-packages\"></a>"
   ]
  },
  {
   "cell_type": "code",
   "execution_count": 1,
   "id": "15613b17",
   "metadata": {
    "vscode": {
     "languageId": "python"
    }
   },
   "outputs": [],
   "source": [
    "import pandas as pd\n",
    "import json\n",
    "import requests\n",
    "import json\n",
    "import datetime as dt\n",
    "import binascii\n",
    "import io\n",
    "import pandas as pd\n",
    "import os\n",
    "import sys\n",
    "import subprocess\n",
    "from urllib.request import urlopen\n",
    "from bs4 import BeautifulSoup\n",
    "\n",
    "import pprint\n",
    "from PIL import Image\n",
    "Image.MAX_IMAGE_PIXELS = 2**30"
   ]
  },
  {
   "cell_type": "markdown",
   "id": "04c6abc7",
   "metadata": {},
   "source": [
    "#### Setting up environment on WINDOWS machine <a class=\"anchor\" id=\"Setting-up-environment-on-WINDOWS-machine\"></a>\n",
    "\n",
    "#### Barebones command to run RobynAPI -> <font color='red'> ! START \"\" /B \"<path_where_R_is_installed>\\Rscript.exe\" \"<path_where_robyn_api_files_exist>\\api_call.R\" </font>\n",
    "1. Find location where R is installed on your machine. If the location is \"C:\\Program Files\\R\\R-4.2.2\\bin\\\" Then use this to replace <path_where_R_is_installed>\n",
    "2. Find where api files exist and replace it with <path_where_robyn_api_files_exist>\n",
    "    e.g. ! START \"\" /B \"C:\\Program Files\\R\\R-4.2.2\\bin\\Rscript.exe\" \"C:\\Documents\\GitHub\\robyn\\robyn_api\\api_call.R\""
   ]
  },
  {
   "cell_type": "code",
   "execution_count": 2,
   "id": "b65eb638",
   "metadata": {
    "vscode": {
     "languageId": "python"
    }
   },
   "outputs": [],
   "source": [
    "! START \"\" /B \"C:\\Program Files\\R\\R-4.2.2\\bin\\Rscript.exe\" \"C:/Users/ebyjose/OneDrive - Facebook/Documents/GitHub/robyn/robyn_api/api_call.R\""
   ]
  },
  {
   "cell_type": "markdown",
   "id": "14dc31fd",
   "metadata": {},
   "source": [
    "#### Steps to run RobynAPI if you are using a <u> LINUX </u> machine/server <a class=\"anchor\" id=\"Setting-up-environment-on-LINUX-machine\"></a>\n",
    "\n",
    "#### Barebones command to run RobynAPI -> <font color='red'> ! Rscript <path_where_robyn_api_files_exist>\\api_call.R &</font>\n",
    "1. Find location where R is installed on your machine. If the location is \"C:\\Program Files\\R\\R-4.2.2\\bin\\\" Then use this to replace <path_where_R_is_installed>\n",
    "2. Find where api files exist and replace it with <path_where_robyn_api_files_exist>\n",
    "    \n",
    "    e.g. # ! Rscript /home/robyn/robyn_api/api-call.R"
   ]
  },
  {
   "cell_type": "code",
   "execution_count": null,
   "id": "b0997a95",
   "metadata": {
    "vscode": {
     "languageId": "python"
    }
   },
   "outputs": [],
   "source": [
    "! Rscript <path_to_apifile>/api_call.R &"
   ]
  },
  {
   "cell_type": "markdown",
   "id": "918659b3",
   "metadata": {},
   "source": [
    "#### Steps to run RobynAPI if you are using a <u> MAC </u> <a class=\"anchor\" id=\"Setting-up-environment-on-MAC\"></a>\n",
    "\n",
    "#### Barebones command to run RobynAPI -> <font color='red'> subprocess.Popen([\"Rscript\", \"<path_to_apifile>/api_call.R\"])</font>\n",
    "1. Find where api files exist and replace it with <path_to_apifile>\n",
    "    \n",
    "    e.g. # subprocess.Popen([\"Rscript\", \"/home/robyn/robyn_api/api_call.R\"])"
   ]
  },
  {
   "cell_type": "code",
   "execution_count": null,
   "id": "d2a61e8d",
   "metadata": {
    "scrolled": false,
    "vscode": {
     "languageId": "python"
    }
   },
   "outputs": [],
   "source": [
    "p = subprocess.Popen([\"Rscript\", \"./api_call.R\"])"
   ]
  },
  {
   "cell_type": "code",
   "execution_count": null,
   "id": "3146fca3",
   "metadata": {},
   "outputs": [],
   "source": [
    "p.kill()\n",
    "p = subprocess.Popen([\"Rscript\", \"./api_call.R\"])"
   ]
  },
  {
   "cell_type": "markdown",
   "id": "5d66a463",
   "metadata": {},
   "source": [
    "## Demo file"
   ]
  },
  {
   "cell_type": "code",
   "execution_count": 3,
   "id": "beeb12c0",
   "metadata": {
    "scrolled": true,
    "vscode": {
     "languageId": "python"
    }
   },
   "outputs": [
    {
     "data": {
      "text/plain": [
       "dict_keys(['/dt_simulated_weekly', '/dt_prophet_holidays', '/robyn_inputs', '/robyn_run', '/robyn_outputs', '/robyn_onepagers', '/robyn_allocator'])"
      ]
     },
     "execution_count": 3,
     "metadata": {},
     "output_type": "execute_result"
    }
   ],
   "source": [
    "apiBaseUrl = \"http://127.0.0.1:9999/{}\"\n",
    "url = apiBaseUrl[:-3]+\"/openapi.json\"\n",
    "html = urlopen(url).read()\n",
    "soup = BeautifulSoup(html, features=\"html.parser\")\n",
    "apis = json.loads(soup.contents[0])\n",
    "apis['paths'].keys()"
   ]
  },
  {
   "cell_type": "markdown",
   "id": "4807f1da",
   "metadata": {},
   "source": [
    "# Define Functions"
   ]
  },
  {
   "cell_type": "code",
   "execution_count": 4,
   "id": "728d2fbc",
   "metadata": {
    "vscode": {
     "languageId": "python"
    }
   },
   "outputs": [],
   "source": [
    "hexToPng = lambda fileName, hexData: Image.open(io.BytesIO(binascii.unhexlify(hexData))).save(fileName, \"png\")\n",
    "dateConv = lambda date: dt.datetime.strptime(date, '%Y-%m-%d').date()"
   ]
  },
  {
   "cell_type": "code",
   "execution_count": 5,
   "id": "7b1908b3",
   "metadata": {
    "vscode": {
     "languageId": "python"
    }
   },
   "outputs": [],
   "source": [
    "def asSerialisedFeather(modelData):\n",
    "    modelDataFeather = io.BytesIO()\n",
    "    pd.DataFrame(modelData).to_feather(modelDataFeather)\n",
    "    modelDataFeather.seek(0)\n",
    "    modelDataBinary = modelDataFeather.read()\n",
    "    return binascii.hexlify(modelDataBinary).decode()"
   ]
  },
  {
   "cell_type": "markdown",
   "id": "5427aecb",
   "metadata": {},
   "source": [
    "# Get Data"
   ]
  },
  {
   "cell_type": "code",
   "execution_count": 6,
   "id": "189d93a5",
   "metadata": {
    "vscode": {
     "languageId": "python"
    }
   },
   "outputs": [],
   "source": [
    "# Get the sample dataset from Robyn api for use in later steps\n",
    "response = requests.post(apiBaseUrl.format('dt_simulated_weekly'))\n",
    "respJson = json.loads(response.content.decode('utf-8'))\n",
    "dtSimulatedWeekly = [{'DATE' : dateConv(rec['DATE']),**{col:rec[col]for col in rec if col!='DATE'}} for rec in respJson]\n",
    "dtSimulatedWeeklyDf = pd.DataFrame(dtSimulatedWeekly)"
   ]
  },
  {
   "cell_type": "code",
   "execution_count": 7,
   "id": "2ad540fc",
   "metadata": {
    "scrolled": false,
    "vscode": {
     "languageId": "python"
    }
   },
   "outputs": [
    {
     "data": {
      "text/html": [
       "<div>\n",
       "<style scoped>\n",
       "    .dataframe tbody tr th:only-of-type {\n",
       "        vertical-align: middle;\n",
       "    }\n",
       "\n",
       "    .dataframe tbody tr th {\n",
       "        vertical-align: top;\n",
       "    }\n",
       "\n",
       "    .dataframe thead th {\n",
       "        text-align: right;\n",
       "    }\n",
       "</style>\n",
       "<table border=\"1\" class=\"dataframe\">\n",
       "  <thead>\n",
       "    <tr style=\"text-align: right;\">\n",
       "      <th></th>\n",
       "      <th>DATE</th>\n",
       "      <th>revenue</th>\n",
       "      <th>tv_S</th>\n",
       "      <th>ooh_S</th>\n",
       "      <th>print_S</th>\n",
       "      <th>facebook_I</th>\n",
       "      <th>search_clicks_P</th>\n",
       "      <th>search_S</th>\n",
       "      <th>competitor_sales_B</th>\n",
       "      <th>facebook_S</th>\n",
       "      <th>events</th>\n",
       "      <th>newsletter</th>\n",
       "    </tr>\n",
       "  </thead>\n",
       "  <tbody>\n",
       "    <tr>\n",
       "      <th>0</th>\n",
       "      <td>2015-11-23</td>\n",
       "      <td>2.754372e+06</td>\n",
       "      <td>67075.04</td>\n",
       "      <td>0.0</td>\n",
       "      <td>38185.4667</td>\n",
       "      <td>7.290385e+07</td>\n",
       "      <td>0.0000</td>\n",
       "      <td>0</td>\n",
       "      <td>8125009</td>\n",
       "      <td>22821.3987</td>\n",
       "      <td>na</td>\n",
       "      <td>19401.6538</td>\n",
       "    </tr>\n",
       "    <tr>\n",
       "      <th>1</th>\n",
       "      <td>2015-11-30</td>\n",
       "      <td>2.584277e+06</td>\n",
       "      <td>85840.36</td>\n",
       "      <td>0.0</td>\n",
       "      <td>0.0000</td>\n",
       "      <td>1.658110e+07</td>\n",
       "      <td>29511.7155</td>\n",
       "      <td>12400</td>\n",
       "      <td>7901549</td>\n",
       "      <td>3425.8574</td>\n",
       "      <td>na</td>\n",
       "      <td>14791.0000</td>\n",
       "    </tr>\n",
       "    <tr>\n",
       "      <th>2</th>\n",
       "      <td>2015-12-07</td>\n",
       "      <td>2.547387e+06</td>\n",
       "      <td>0.00</td>\n",
       "      <td>396835.2</td>\n",
       "      <td>1361.6000</td>\n",
       "      <td>4.995477e+07</td>\n",
       "      <td>36132.3590</td>\n",
       "      <td>11360</td>\n",
       "      <td>8300197</td>\n",
       "      <td>12769.1261</td>\n",
       "      <td>na</td>\n",
       "      <td>14544.0000</td>\n",
       "    </tr>\n",
       "    <tr>\n",
       "      <th>3</th>\n",
       "      <td>2015-12-14</td>\n",
       "      <td>2.875220e+06</td>\n",
       "      <td>250350.92</td>\n",
       "      <td>0.0</td>\n",
       "      <td>53040.0000</td>\n",
       "      <td>3.164930e+07</td>\n",
       "      <td>36804.2110</td>\n",
       "      <td>12760</td>\n",
       "      <td>8122883</td>\n",
       "      <td>8401.4720</td>\n",
       "      <td>na</td>\n",
       "      <td>2800.0000</td>\n",
       "    </tr>\n",
       "    <tr>\n",
       "      <th>4</th>\n",
       "      <td>2015-12-21</td>\n",
       "      <td>2.215953e+06</td>\n",
       "      <td>0.00</td>\n",
       "      <td>832008.0</td>\n",
       "      <td>0.0000</td>\n",
       "      <td>8.802269e+06</td>\n",
       "      <td>28401.7441</td>\n",
       "      <td>10840</td>\n",
       "      <td>7105985</td>\n",
       "      <td>2068.7478</td>\n",
       "      <td>na</td>\n",
       "      <td>15478.0000</td>\n",
       "    </tr>\n",
       "  </tbody>\n",
       "</table>\n",
       "</div>"
      ],
      "text/plain": [
       "         DATE       revenue       tv_S     ooh_S     print_S    facebook_I  \\\n",
       "0  2015-11-23  2.754372e+06   67075.04       0.0  38185.4667  7.290385e+07   \n",
       "1  2015-11-30  2.584277e+06   85840.36       0.0      0.0000  1.658110e+07   \n",
       "2  2015-12-07  2.547387e+06       0.00  396835.2   1361.6000  4.995477e+07   \n",
       "3  2015-12-14  2.875220e+06  250350.92       0.0  53040.0000  3.164930e+07   \n",
       "4  2015-12-21  2.215953e+06       0.00  832008.0      0.0000  8.802269e+06   \n",
       "\n",
       "   search_clicks_P  search_S  competitor_sales_B  facebook_S events  \\\n",
       "0           0.0000         0             8125009  22821.3987     na   \n",
       "1       29511.7155     12400             7901549   3425.8574     na   \n",
       "2       36132.3590     11360             8300197  12769.1261     na   \n",
       "3       36804.2110     12760             8122883   8401.4720     na   \n",
       "4       28401.7441     10840             7105985   2068.7478     na   \n",
       "\n",
       "   newsletter  \n",
       "0  19401.6538  \n",
       "1  14791.0000  \n",
       "2  14544.0000  \n",
       "3   2800.0000  \n",
       "4  15478.0000  "
      ]
     },
     "execution_count": 7,
     "metadata": {},
     "output_type": "execute_result"
    }
   ],
   "source": [
    "dtSimulatedWeeklyDf.head()"
   ]
  },
  {
   "cell_type": "code",
   "execution_count": 8,
   "id": "f4914f85",
   "metadata": {
    "scrolled": true,
    "vscode": {
     "languageId": "python"
    }
   },
   "outputs": [
    {
     "data": {
      "text/html": [
       "<div>\n",
       "<style scoped>\n",
       "    .dataframe tbody tr th:only-of-type {\n",
       "        vertical-align: middle;\n",
       "    }\n",
       "\n",
       "    .dataframe tbody tr th {\n",
       "        vertical-align: top;\n",
       "    }\n",
       "\n",
       "    .dataframe thead th {\n",
       "        text-align: right;\n",
       "    }\n",
       "</style>\n",
       "<table border=\"1\" class=\"dataframe\">\n",
       "  <thead>\n",
       "    <tr style=\"text-align: right;\">\n",
       "      <th></th>\n",
       "      <th>ds</th>\n",
       "      <th>holiday</th>\n",
       "      <th>country</th>\n",
       "      <th>year</th>\n",
       "    </tr>\n",
       "  </thead>\n",
       "  <tbody>\n",
       "    <tr>\n",
       "      <th>0</th>\n",
       "      <td>1995-01-01</td>\n",
       "      <td>New Year's Day</td>\n",
       "      <td>AD</td>\n",
       "      <td>1995</td>\n",
       "    </tr>\n",
       "    <tr>\n",
       "      <th>1</th>\n",
       "      <td>1995-01-06</td>\n",
       "      <td>Epiphany</td>\n",
       "      <td>AD</td>\n",
       "      <td>1995</td>\n",
       "    </tr>\n",
       "    <tr>\n",
       "      <th>2</th>\n",
       "      <td>1995-02-28</td>\n",
       "      <td>Carnival</td>\n",
       "      <td>AD</td>\n",
       "      <td>1995</td>\n",
       "    </tr>\n",
       "    <tr>\n",
       "      <th>3</th>\n",
       "      <td>1995-03-14</td>\n",
       "      <td>Constitution Day</td>\n",
       "      <td>AD</td>\n",
       "      <td>1995</td>\n",
       "    </tr>\n",
       "    <tr>\n",
       "      <th>4</th>\n",
       "      <td>1995-04-14</td>\n",
       "      <td>Good Friday</td>\n",
       "      <td>AD</td>\n",
       "      <td>1995</td>\n",
       "    </tr>\n",
       "  </tbody>\n",
       "</table>\n",
       "</div>"
      ],
      "text/plain": [
       "           ds           holiday country  year\n",
       "0  1995-01-01    New Year's Day      AD  1995\n",
       "1  1995-01-06          Epiphany      AD  1995\n",
       "2  1995-02-28          Carnival      AD  1995\n",
       "3  1995-03-14  Constitution Day      AD  1995\n",
       "4  1995-04-14       Good Friday      AD  1995"
      ]
     },
     "execution_count": 8,
     "metadata": {},
     "output_type": "execute_result"
    }
   ],
   "source": [
    "# Get the sample dataset from Robyn api for use in later steps\n",
    "response = requests.post(apiBaseUrl.format('dt_prophet_holidays'))\n",
    "respJson = json.loads(response.content.decode('utf-8'))\n",
    "dt_prophet_holidays = pd.DataFrame(respJson)\n",
    "dt_prophet_holidays.head()"
   ]
  },
  {
   "cell_type": "markdown",
   "id": "1dc1c75d",
   "metadata": {},
   "source": [
    "# Robyn Input"
   ]
  },
  {
   "cell_type": "markdown",
   "id": "2004ab1b",
   "metadata": {},
   "source": [
    "## Step 2a: For first time user: Model specification in 4 steps\n",
    "### 2a-1: First, specify input variables\n",
    "    All sign control are now automatically provided: \"positive\" for media & organic\n",
    "    variables and \"default\" for all others. User can still customise signs if necessary.\n",
    "    Documentation is available, access it anytime by running: ?robyn_inputs"
   ]
  },
  {
   "cell_type": "code",
   "execution_count": null,
   "id": "5232c068",
   "metadata": {},
   "outputs": [],
   "source": [
    "inputArgs = {\n",
    "    \"date_var\": \"DATE\",\n",
    "    \"dep_var\": \"revenue\",\n",
    "    \"dep_var_type\": \"revenue\",\n",
    "    \"prophet_vars\": [\"trend\", \"season\", \"holiday\"],\n",
    "    \"prophet_country\": \"DE\",\n",
    "    \"context_vars\" : [\"competitor_sales_B\", \"events\"],\n",
    "    \"paid_media_spends\": [\"tv_S\", \"ooh_S\", \"print_S\", \"facebook_S\", \"search_S\"],\n",
    "    \"paid_media_vars\": [\"tv_S\", \"ooh_S\", \"print_S\", \"facebook_I\", \"search_clicks_P\"],\n",
    "    \"organic_vars\" : \"newsletter\",\n",
    "    \"window_start\": \"2016-01-01\",\n",
    "    \"window_end\": \"2018-12-31\",\n",
    "    \"adstock\": \"geometric\"\n",
    "}"
   ]
  },
  {
   "cell_type": "code",
   "execution_count": null,
   "id": "786eb4d5",
   "metadata": {},
   "outputs": [],
   "source": [
    "# Build the payload for the robyn_inputs()\n",
    "payload = {\n",
    "    'modelData' : asSerialisedFeather(dtSimulatedWeeklyDf), \n",
    "    'holidayData' : asSerialisedFeather(dt_prophet_holidays), \n",
    "    'jsonInputArgs' : json.dumps(inputArgs)\n",
    "}"
   ]
  },
  {
   "cell_type": "code",
   "execution_count": null,
   "id": "b32c8e28",
   "metadata": {},
   "outputs": [],
   "source": [
    "# Get response\n",
    "response = requests.post(apiBaseUrl.format('robyn_inputs'),data=payload)\n",
    "respJson = json.loads(response.content.decode('utf-8'))\n",
    "InputCollect = respJson"
   ]
  },
  {
   "cell_type": "code",
   "execution_count": null,
   "id": "49e936c9",
   "metadata": {
    "scrolled": true,
    "vscode": {
     "languageId": "python"
    }
   },
   "outputs": [],
   "source": [
    "InputCollect.keys()"
   ]
  },
  {
   "cell_type": "markdown",
   "id": "ad324bea",
   "metadata": {},
   "source": [
    "## 2a-2: Second, define and add hyperparameters\n",
    "    Default media variable for modelling has changed from paid_media_vars to paid_media_spends.\n",
    "    Also, calibration_input are required to be spend names.\n",
    "    hyperparameter names are based on paid_media_spends names too. See right hyperparameter names:"
   ]
  },
  {
   "cell_type": "code",
   "execution_count": null,
   "id": "99b258b4",
   "metadata": {},
   "outputs": [],
   "source": [
    "# hyper_names(adstock = InputCollect$adstock, all_media = InputCollect$all_media)"
   ]
  },
  {
   "cell_type": "code",
   "execution_count": null,
   "id": "c39af576",
   "metadata": {},
   "outputs": [],
   "source": [
    "# Example hyperparameters ranges for Geometric adstock\n",
    "inputArgs = {\n",
    "    \"hyperparameters\" : {\n",
    "        \"facebook_S_alphas\" : [0.5, 3],\n",
    "        \"facebook_S_gammas\" : [0.3, 1],\n",
    "        \"facebook_S_thetas\" : [0, 0.3],\n",
    "        \"print_S_alphas\" : [0.5, 3],\n",
    "        \"print_S_gammas\" : [0.3, 1],\n",
    "        \"print_S_thetas\" : [0.1, 0.4],\n",
    "        \"tv_S_alphas\" : [0.5, 3],\n",
    "        \"tv_S_gammas\" : [0.3, 1],\n",
    "        \"tv_S_thetas\" : [0.3, 0.8],\n",
    "        \"search_S_alphas\" : [0.5, 3],\n",
    "        \"search_S_gammas\" : [0.3, 1],\n",
    "        \"search_S_thetas\" : [0, 0.3],\n",
    "        \"ooh_S_alphas\" : [0.5, 3],\n",
    "        \"ooh_S_gammas\" : [0.3, 1],\n",
    "        \"ooh_S_thetas\" : [0.1, 0.4],\n",
    "        \"newsletter_alphas\" : [0.5, 3],\n",
    "        \"newsletter_gammas\" : [0.3, 1],\n",
    "        \"newsletter_thetas\" : [0.1, 0.4],\n",
    "        \"train_size\": [0.5, 0.8]\n",
    "    }\n",
    "}"
   ]
  },
  {
   "cell_type": "markdown",
   "id": "2e4d5aae",
   "metadata": {},
   "source": [
    "## 2a-3: Third, add hyperparameters into robyn_inputs()"
   ]
  },
  {
   "cell_type": "code",
   "execution_count": null,
   "id": "fa628f26",
   "metadata": {},
   "outputs": [],
   "source": [
    "payload = {\n",
    "    'InputCollect' : json.dumps(InputCollect), \n",
    "    'jsonInputArgs' : json.dumps(inputArgs)\n",
    "}"
   ]
  },
  {
   "cell_type": "code",
   "execution_count": null,
   "id": "1231bf0e",
   "metadata": {
    "scrolled": true
   },
   "outputs": [],
   "source": [
    "# Get response\n",
    "response = requests.post(apiBaseUrl.format('robyn_inputs'),data=payload)\n",
    "respJson = json.loads(response.content.decode('utf-8'))\n",
    "InputCollect = respJson"
   ]
  },
  {
   "cell_type": "code",
   "execution_count": null,
   "id": "d668a498",
   "metadata": {
    "scrolled": true
   },
   "outputs": [],
   "source": [
    "InputCollect.keys()"
   ]
  },
  {
   "cell_type": "markdown",
   "id": "5ae89982",
   "metadata": {},
   "source": [
    "## 2a-4: Fourth (optional), model calibration / add experimental input"
   ]
  },
  {
   "cell_type": "code",
   "execution_count": null,
   "id": "ee8766a3",
   "metadata": {},
   "outputs": [],
   "source": [
    "# calibration_input <- data.frame(\n",
    "#   # channel name must in paid_media_vars\n",
    "#   channel = c(\"facebook_S\",  \"tv_S\", \"facebook_S+search_S\", \"newsletter\"),\n",
    "#   # liftStartDate must be within input data range\n",
    "#   liftStartDate = as.Date(c(\"2018-05-01\", \"2018-04-03\", \"2018-07-01\", \"2017-12-01\")),\n",
    "#   # liftEndDate must be within input data range\n",
    "#   liftEndDate = as.Date(c(\"2018-06-10\", \"2018-06-03\", \"2018-07-20\", \"2017-12-31\")),\n",
    "#   # Provided value must be tested on same campaign level in model and same metric as dep_var_type\n",
    "#   liftAbs = c(400000, 300000, 700000, 200),\n",
    "#   # Spend within experiment: should match within a 10% error your spend on date range for each channel from dt_input\n",
    "#   spend = c(421000, 7100, 350000, 0),\n",
    "#   # Confidence: if frequentist experiment, you may use 1 - pvalue\n",
    "#   confidence = c(0.85, 0.8, 0.99, 0.95),\n",
    "#   # KPI measured: must match your dep_var\n",
    "#   metric = c(\"revenue\", \"revenue\", \"revenue\", \"revenue\"),\n",
    "#   # Either \"immediate\" or \"total\". For experimental inputs like Facebook Lift, \"immediate\" is recommended.\n",
    "#   calibration_scope = c(\"immediate\", \"immediate\", \"immediate\", \"immediate\")\n",
    "# )\n",
    "# calibration_input %>% as_tibble()\n",
    "# InputCollect <- robyn_inputs(InputCollect = InputCollect, calibration_input = calibration_input)\n"
   ]
  },
  {
   "cell_type": "code",
   "execution_count": null,
   "id": "62851b2b",
   "metadata": {},
   "outputs": [],
   "source": [
    "calibration_input = {\n",
    "    \"channel\": [\"facebook_S\",\"tv_S\",\"facebook_S+search_S\",\"newsletter\"],\n",
    "    \"liftStartDate\" : [\"2018-05-01\",\"2018-04-03\",\"2018-07-01\",\"2017-12-01\"],\n",
    "    \"liftEndDate\" : [\"2018-06-10\",\"2018-06-03\",\"2018-07-20\",\"2017-12-31\"],\n",
    "    \"liftAbs\" : [400000, 300000, 700000, 200],\n",
    "    \"spend\" : [421000, 7100, 350000, 0],\n",
    "    \"confidence\" : [0.85, 0.8, 0.99, 0.95],\n",
    "    \"metric\" : [\"revenue\",\"revenue\",\"revenue\",\"revenue\"],\n",
    "    \"calibration_scope\" : [\"immediate\",\"immediate\",\"immediate\",\"immediate\"]\n",
    "}\n",
    "calibration_input = pd.DataFrame(calibration_input)\n",
    "calibration_input"
   ]
  },
  {
   "cell_type": "code",
   "execution_count": null,
   "id": "44659966",
   "metadata": {},
   "outputs": [],
   "source": [
    "payload = {\n",
    "    'InputCollect' : json.dumps(InputCollect), \n",
    "    'calibration_input' : asSerialisedFeather(calibration_input), \n",
    "}"
   ]
  },
  {
   "cell_type": "code",
   "execution_count": null,
   "id": "f0b2319e",
   "metadata": {},
   "outputs": [],
   "source": [
    "# Get response\n",
    "response = requests.post(apiBaseUrl.format('robyn_inputs'),data=payload)\n",
    "respJson = json.loads(response.content.decode('utf-8'))\n",
    "InputCollect = respJson"
   ]
  },
  {
   "cell_type": "code",
   "execution_count": null,
   "id": "c2c88a45",
   "metadata": {},
   "outputs": [],
   "source": [
    "InputCollect.keys()"
   ]
  },
  {
   "cell_type": "markdown",
   "id": "38cc9dc3",
   "metadata": {},
   "source": [
    "# Robyn Run"
   ]
  },
  {
   "cell_type": "code",
   "execution_count": null,
   "id": "0d947b1f",
   "metadata": {
    "vscode": {
     "languageId": "python"
    }
   },
   "outputs": [],
   "source": [
    "runArgs = {\n",
    "    \"iterations\" : 1000,\n",
    "    \"trials\" : 1, \n",
    "    \"ts_validation\" : True,\n",
    "    \"add_penalty_factor\" : False,\n",
    "    \"seed\" : 123\n",
    "}"
   ]
  },
  {
   "cell_type": "code",
   "execution_count": null,
   "id": "92e25594",
   "metadata": {
    "vscode": {
     "languageId": "python"
    }
   },
   "outputs": [],
   "source": [
    "# Build the payload for the robyn run\n",
    "payload = {\n",
    "    'InputCollect' : json.dumps(InputCollect), \n",
    "    'jsonRunArgs' : json.dumps(runArgs)\n",
    "}"
   ]
  },
  {
   "cell_type": "code",
   "execution_count": null,
   "id": "5646f67e",
   "metadata": {
    "scrolled": true,
    "vscode": {
     "languageId": "python"
    }
   },
   "outputs": [],
   "source": [
    "# Get response\n",
    "response = requests.post(apiBaseUrl.format('robyn_run'),data=payload)\n",
    "respJson = json.loads(response.content.decode('utf-8'))\n",
    "OutputModels = respJson"
   ]
  },
  {
   "cell_type": "code",
   "execution_count": null,
   "id": "1cd06da8",
   "metadata": {
    "vscode": {
     "languageId": "python"
    }
   },
   "outputs": [],
   "source": [
    "respJson.keys()"
   ]
  },
  {
   "cell_type": "markdown",
   "id": "c23a2cf6",
   "metadata": {},
   "source": [
    "# Robyn Outputs"
   ]
  },
  {
   "cell_type": "code",
   "execution_count": null,
   "id": "9e2fc4ea",
   "metadata": {},
   "outputs": [],
   "source": [
    "create_files = False\n",
    "robyn_directory = 'C:/Robyn/'"
   ]
  },
  {
   "cell_type": "code",
   "execution_count": null,
   "id": "c4d41344",
   "metadata": {
    "vscode": {
     "languageId": "python"
    }
   },
   "outputs": [],
   "source": [
    "outputsArgs = {\n",
    "    \"pareto_fronts\" : 'auto', # automatically pick how many pareto-fronts to fill min_candidates (100)\n",
    "    \"min_candidates\" : 10, # top pareto models for clustering. Default to 100\n",
    "    \"calibration_constraint\" : 0.1, # range c(0.01, 0.1) & default at 0.1\n",
    "    \"csv_out\" : \"pareto\", # \"pareto\", \"all\", or NULL (for none)\n",
    "    \"clusters\" : True, # Set to TRUE to cluster similar models by ROAS. See ?robyn_clusters\n",
    "    \"export\" : create_files, # this will create files locally\n",
    "    \"plot_folder\" : robyn_directory, # path for plots exports and files creation\n",
    "#     \"plot_pareto\" : create_files # Set to FALSE to deactivate plotting and saving model one-pagers\n",
    "}"
   ]
  },
  {
   "cell_type": "code",
   "execution_count": null,
   "id": "c9a0c0fb",
   "metadata": {
    "vscode": {
     "languageId": "python"
    }
   },
   "outputs": [],
   "source": [
    "# Build the payload for the robyn_outputs()\n",
    "payload = {\n",
    "    'InputCollect' : json.dumps(InputCollect),\n",
    "    'OutputModels' : json.dumps(OutputModels),\n",
    "    'jsonOutputsArgs' : json.dumps(outputsArgs)\n",
    "}"
   ]
  },
  {
   "cell_type": "code",
   "execution_count": null,
   "id": "79e4e9b1",
   "metadata": {
    "scrolled": true,
    "vscode": {
     "languageId": "python"
    }
   },
   "outputs": [],
   "source": [
    "# Get response\n",
    "response = requests.post(apiBaseUrl.format('robyn_outputs'),data=payload)\n",
    "respJson = json.loads(response.content.decode('utf-8'))\n",
    "OutputCollect = respJson"
   ]
  },
  {
   "cell_type": "code",
   "execution_count": null,
   "id": "2563cdfe",
   "metadata": {
    "scrolled": true,
    "vscode": {
     "languageId": "python"
    }
   },
   "outputs": [],
   "source": [
    "OutputCollect.keys()"
   ]
  },
  {
   "cell_type": "code",
   "execution_count": null,
   "id": "fc9227a1",
   "metadata": {
    "vscode": {
     "languageId": "python"
    }
   },
   "outputs": [],
   "source": [
    "sys.getsizeof(response.content.decode('utf-8')) / 1e+6"
   ]
  },
  {
   "cell_type": "code",
   "execution_count": null,
   "id": "eaa42d62",
   "metadata": {
    "scrolled": true,
    "vscode": {
     "languageId": "python"
    }
   },
   "outputs": [],
   "source": [
    "OutputCollect.keys()"
   ]
  },
  {
   "cell_type": "markdown",
   "id": "e7b9c3cf",
   "metadata": {},
   "source": [
    "# Robyn Onepager"
   ]
  },
  {
   "cell_type": "code",
   "execution_count": null,
   "id": "f0477007",
   "metadata": {
    "scrolled": true,
    "vscode": {
     "languageId": "python"
    }
   },
   "outputs": [],
   "source": [
    "pd.DataFrame(OutputCollect['clusters']['models']).T"
   ]
  },
  {
   "cell_type": "code",
   "execution_count": null,
   "id": "fd2566e4",
   "metadata": {
    "vscode": {
     "languageId": "python"
    }
   },
   "outputs": [],
   "source": [
    "for i in OutputCollect['clusters']['models']:\n",
    "    print(i['solID'])"
   ]
  },
  {
   "cell_type": "code",
   "execution_count": null,
   "id": "ce46d91f",
   "metadata": {
    "vscode": {
     "languageId": "python"
    }
   },
   "outputs": [],
   "source": [
    "select_model = '1_138_7'"
   ]
  },
  {
   "cell_type": "code",
   "execution_count": null,
   "id": "aa2048ac",
   "metadata": {
    "scrolled": true
   },
   "outputs": [],
   "source": [
    "onepagersArgs = {\n",
    "    \"select_model\" : select_model, # automatically pick how many pareto-fronts to fill min_candidates (100)\n",
    "    \"export\" : False, # this will create files locally\n",
    "}"
   ]
  },
  {
   "cell_type": "code",
   "execution_count": null,
   "id": "5376e387",
   "metadata": {
    "vscode": {
     "languageId": "python"
    }
   },
   "outputs": [],
   "source": [
    "# Build the payload for the robyn_onepagers()\n",
    "payload = {\n",
    "    'InputCollect' : json.dumps(InputCollect),\n",
    "    'OutputCollect' : json.dumps(OutputCollect),\n",
    "    \"jsonOnepagersArgs\": json.dumps(onepagersArgs),\n",
    "    'dpi' : 300,\n",
    "    'width' : 15,\n",
    "    'height' : 20\n",
    "}"
   ]
  },
  {
   "cell_type": "code",
   "execution_count": null,
   "id": "98da6f11",
   "metadata": {
    "vscode": {
     "languageId": "python"
    }
   },
   "outputs": [],
   "source": [
    "# Get response\n",
    "response = requests.post(apiBaseUrl.format('robyn_onepagers'),data=payload)\n",
    "respJson = json.loads(response.content.decode('utf-8'))\n",
    "onepager = respJson"
   ]
  },
  {
   "cell_type": "code",
   "execution_count": null,
   "id": "25715017",
   "metadata": {
    "scrolled": false
   },
   "outputs": [],
   "source": [
    "Image.open(io.BytesIO(binascii.unhexlify(\"\".join(onepager))))"
   ]
  },
  {
   "cell_type": "markdown",
   "id": "941718f5",
   "metadata": {},
   "source": [
    "# Robyn Allocator"
   ]
  },
  {
   "cell_type": "code",
   "execution_count": null,
   "id": "94e313ac",
   "metadata": {},
   "outputs": [],
   "source": [
    "allocatorArgs = {\n",
    "    \"select_model\" : select_model,\n",
    "#     \"date_range\" : None, # Default last month as initial period\n",
    "#     \"total_budget\" : None, # When NULL, default is total spend in date_range\n",
    "    \"channel_constr_low\" : 0.7,\n",
    "    \"channel_constr_up\" : 1.2,\n",
    "    \"channel_constr_multiplier\" : 3,\n",
    "    \"scenario\" : \"max_response\",\n",
    "    \"export\" : False,\n",
    "}"
   ]
  },
  {
   "cell_type": "code",
   "execution_count": null,
   "id": "5f853452",
   "metadata": {
    "vscode": {
     "languageId": "python"
    }
   },
   "outputs": [],
   "source": [
    "# Build the payload for the robyn_allocator()\n",
    "payload = {\n",
    "    'InputCollect' : json.dumps(InputCollect),\n",
    "    'OutputCollect' : json.dumps(OutputCollect),\n",
    "    \"jsonAllocatorArgs\": json.dumps(allocatorArgs),\n",
    "    'dpi' : 300,\n",
    "    'width' : 15,\n",
    "    'height' : 15\n",
    "}"
   ]
  },
  {
   "cell_type": "code",
   "execution_count": null,
   "id": "337eb394",
   "metadata": {
    "scrolled": true,
    "vscode": {
     "languageId": "python"
    }
   },
   "outputs": [],
   "source": [
    "# Get response\n",
    "response = requests.post(apiBaseUrl.format('robyn_allocator'),data=payload)\n",
    "respJson = json.loads(response.content.decode('utf-8'))\n",
    "allocator = respJson"
   ]
  },
  {
   "cell_type": "code",
   "execution_count": null,
   "id": "06ee665a",
   "metadata": {
    "scrolled": false,
    "vscode": {
     "languageId": "python"
    }
   },
   "outputs": [],
   "source": [
    "Image.open(io.BytesIO(binascii.unhexlify(\"\".join(allocator))))"
   ]
  },
  {
   "cell_type": "code",
   "execution_count": null,
   "id": "209bdeb9",
   "metadata": {},
   "outputs": [],
   "source": [
    "p.kill()\n",
    "p = subprocess.Popen([\"Rscript\", \"./api_call.R\"])"
   ]
  }
 ],
 "metadata": {
  "kernelspec": {
   "display_name": "Python 3 (ipykernel)",
   "language": "python",
   "name": "python3"
  },
  "language_info": {
   "codemirror_mode": {
    "name": "ipython",
    "version": 3
   },
   "file_extension": ".py",
   "mimetype": "text/x-python",
   "name": "python",
   "nbconvert_exporter": "python",
   "pygments_lexer": "ipython3",
   "version": "3.11.5"
  }
 },
 "nbformat": 4,
 "nbformat_minor": 5
}
