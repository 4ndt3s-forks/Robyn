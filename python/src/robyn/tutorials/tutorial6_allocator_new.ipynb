{
 "cells": [
  {
   "cell_type": "markdown",
   "metadata": {},
   "source": [
    "# Robyn Budget Allocator Demo\n",
    "\n",
    "This notebook demonstrates how to use the Python implementation of Robyn's budget allocator.\n",
    "It shows how to:\n",
    "1. Load and prepare data\n",
    "2. Configure the allocator\n",
    "3. Run optimization scenarios\n",
    "4. Analyze and visualize results\n",
    "\n",
    "## Step 1: Load Exported R Data"
   ]
  },
  {
   "cell_type": "code",
   "execution_count": 1,
   "metadata": {},
   "outputs": [
    {
     "name": "stderr",
     "output_type": "stream",
     "text": [
      "2024-11-20 18:40:57,120 - robyn - INFO - Logging is set up to console only.\n"
     ]
    }
   ],
   "source": [
    "## Step 1: Setup and Import\n",
    "import sys\n",
    "import os\n",
    "import pandas as pd\n",
    "import numpy as np\n",
    "from typing import Dict, Any, Union, List\n",
    "import matplotlib.pyplot as plt\n",
    "\n",
    "# Add Robyn to path\n",
    "sys.path.append(\"/Users/yijuilee/robynpy_release_reviews/Robyn/python/src\")\n",
    "\n",
    "# Import necessary Robyn classes\n",
    "from robyn.data.entities.mmmdata import MMMData\n",
    "from robyn.modeling.entities.modeloutputs import ModelOutputs\n",
    "from robyn.data.entities.hyperparameters import Hyperparameters\n",
    "from robyn.modeling.pareto.pareto_optimizer import ParetoResult\n",
    "from robyn.visualization.allocator_plotter import AllocationPlotter\n",
    "from utils.data_mapper import (\n",
    "    load_data_from_json,\n",
    "    import_input_collect,\n",
    "    import_output_collect,\n",
    "    import_output_models,\n",
    ")"
   ]
  },
  {
   "cell_type": "code",
   "execution_count": null,
   "metadata": {},
   "outputs": [],
   "source": [
    "# Load data from JSON exported from R\n",
    "# raw_input_collect = load_data_from_json(\n",
    "#     \"/Users/yijuilee/project_robyn/original/Robyn_original_2/Robyn/robyn_api/data/dh_Pareto_InputCollect.json\"\n",
    "# )\n",
    "# raw_output_collect = load_data_from_json(\n",
    "#     \"/Users/yijuilee/project_robyn/original/Robyn_original_2/Robyn/robyn_api/data/dh_Allocator_OutputCollect.json\"\n",
    "# )\n",
    "\n",
    "raw_input_collect = load_data_from_json(\n",
    "    \"/Users/yijuilee/project_robyn/original/Robyn_original_2/Robyn/robyn_api/data/yj_InputCollect.json\"\n",
    ")\n",
    "raw_output_collect = load_data_from_json(\n",
    "    \"/Users/yijuilee/project_robyn/original/Robyn_original_2/Robyn/robyn_api/data/yj_OutputCollect.json\"\n",
    ")\n",
    "\n",
    "# raw_input_collect = load_data_from_json(\n",
    "#     \"/Users/yijuilee/robynpy_release_reviews/Robyn/python/src/tutorials/data/Allocator_InputCollect.json\"\n",
    "# )\n",
    "# raw_output_collect = load_data_from_json(\n",
    "#     \"/Users/yijuilee/robynpy_release_reviews/Robyn/python/src/tutorials/data/Allocator_OutputCollect.json\"\n",
    "# )\n",
    "# raw_output_models = load_data_from_json(\n",
    "#     \"/Users/yijuilee/robynpy_release_reviews/Robyn/python/src/tutorials/data/Allocator_OutputModels.json\"\n",
    "# )\n",
    "\n",
    "# Convert R data to Python objects\n",
    "r_input_collect = import_input_collect(raw_input_collect)\n",
    "r_output_collect = import_output_collect(raw_output_collect)\n",
    "# python_model_outputs = import_output_models(raw_output_models)\n",
    "\n",
    "# Extract individual components\n",
    "mmm_data = r_input_collect[\"mmm_data\"]\n",
    "featurized_mmm_data = r_input_collect[\"featurized_mmm_data\"]\n",
    "holidays_data = r_input_collect[\"holidays_data\"]\n",
    "hyperparameters = r_input_collect[\"hyperparameters\"]\n",
    "\n",
    "# Print data summary\n",
    "print(f\"Data loaded successfully:\")\n",
    "print(\n",
    "    f\"- Data timeframe: {mmm_data.data[mmm_data.mmmdata_spec.date_var].min()} to {mmm_data.data[mmm_data.mmmdata_spec.date_var].max()}\"\n",
    ")\n",
    "print(\n",
    "    f\"- Number of paid media channels: {len(mmm_data.mmmdata_spec.paid_media_spends)}\"\n",
    ")\n",
    "print(f\"- Channels: {mmm_data.mmmdata_spec.paid_media_spends}\")"
   ]
  },
  {
   "cell_type": "markdown",
   "metadata": {},
   "source": [
    "## Step 2: Set up Budget Allocator\n",
    "\n",
    "Initialize the budget allocator with the selected model and data."
   ]
  },
  {
   "cell_type": "code",
   "execution_count": null,
   "metadata": {},
   "outputs": [],
   "source": [
    "# select_model = r_output_collect[\"pareto_result\"].pareto_solutions[\n",
    "#     0\n",
    "# ]  # Taking first solution as example\n",
    "# print(f\"Selected model: {select_model}\")"
   ]
  },
  {
   "cell_type": "code",
   "execution_count": null,
   "metadata": {},
   "outputs": [],
   "source": [
    "for i in raw_output_collect[\"clusters\"][\"models\"]:\n",
    "    print(i[\"solID\"])"
   ]
  },
  {
   "cell_type": "code",
   "execution_count": null,
   "metadata": {},
   "outputs": [],
   "source": [
    "# Override\n",
    "select_model = \"3_216_3\""
   ]
  },
  {
   "cell_type": "markdown",
   "metadata": {},
   "source": [
    "## Step 3: Run Different Optimization Scenarios\n",
    "\n",
    "### Scenario 1: Default Max Response"
   ]
  },
  {
   "cell_type": "code",
   "execution_count": null,
   "metadata": {},
   "outputs": [],
   "source": [
    "print(\"Hyperparameters raw output:\", hyperparameters)"
   ]
  },
  {
   "cell_type": "code",
   "execution_count": null,
   "metadata": {},
   "outputs": [],
   "source": [
    "# Assuming `hyperparameters` is an instance of the `Hyperparameters` class\n",
    "\n",
    "# Iterate over each channel and its hyperparameters\n",
    "for channel, params in hyperparameters.hyperparameters.items():\n",
    "    print(f\"Channel: {channel}\")\n",
    "    print(f\"  Thetas: {params.thetas}\")\n",
    "    print(f\"  Shapes: {params.shapes}\")\n",
    "    print(f\"  Scales: {params.scales}\")\n",
    "    print(f\"  Alphas: {params.alphas}\")\n",
    "    print(f\"  Gammas: {params.gammas}\")\n",
    "    print(f\"  Penalty: {params.penalty}\")\n",
    "    print()\n",
    "\n",
    "# Print other attributes of the Hyperparameters class\n",
    "print(f\"Adstock: {hyperparameters.adstock}\")\n",
    "print(f\"Lambda: {hyperparameters.lambda_}\")\n",
    "print(f\"Train Size: {hyperparameters.train_size}\")"
   ]
  },
  {
   "cell_type": "code",
   "execution_count": null,
   "metadata": {},
   "outputs": [],
   "source": [
    "from robyn.allocator_v2.entities.allocation_params import AllocatorParams\n",
    "from robyn.allocator_v2.entities.allocation_result import (\n",
    "    AllocationResult,\n",
    "    OptimOutData,\n",
    "    MainPoints,\n",
    ")\n",
    "from robyn.allocator_v2.entities.optimization_result import OptimizationResult\n",
    "from robyn.allocator_v2.entities.constraints import Constraints\n",
    "from robyn.allocator_v2.optimizer import BudgetAllocator\n",
    "from robyn.allocator_v2.constants import (\n",
    "    SCENARIO_MAX_RESPONSE,\n",
    "    ALGO_SLSQP_AUGLAG,\n",
    "    CONSTRAINT_MODE_EQ,\n",
    "    DEFAULT_CONSTRAINT_MULTIPLIER,\n",
    "    DATE_RANGE_ALL,\n",
    ")\n",
    "\n",
    "\n",
    "# Create allocator parameters matching R Example 1\n",
    "allocator_params = AllocatorParams(\n",
    "    scenario=SCENARIO_MAX_RESPONSE,\n",
    "    total_budget=None,  # When None, uses total spend in date_range\n",
    "    target_value=None,\n",
    "    date_range=\"all\",\n",
    "    channel_constr_low=[0.7],  # Single value for all channels\n",
    "    channel_constr_up=[1.2, 1.5, 1.5, 1.5, 1.5],  # Different values per channel\n",
    "    channel_constr_multiplier=3.0,\n",
    "    optim_algo=\"SLSQP_AUGLAG\",\n",
    "    maxeval=100000,\n",
    "    constr_mode=CONSTRAINT_MODE_EQ,\n",
    "    plots=True,\n",
    ")\n",
    "\n",
    "\n",
    "print(\"\\nInitial constraints:\")\n",
    "for channel, low, up in zip(\n",
    "    mmm_data.mmmdata_spec.paid_media_spends,\n",
    "    [0.7] * len(mmm_data.mmmdata_spec.paid_media_spends),  # Expand single value\n",
    "    [1.2, 1.5, 1.5, 1.5, 1.5],  # Per channel values\n",
    "):\n",
    "    print(f\"{channel}: {low:.1f}x - {up:.1f}x\")\n",
    "\n",
    "# Initialize budget allocator\n",
    "allocator = BudgetAllocator(\n",
    "    mmm_data=mmm_data,\n",
    "    hyperparameters=hyperparameters,\n",
    "    pareto_result=r_output_collect[\"pareto_result\"],\n",
    "    select_model=select_model,\n",
    "    params=allocator_params,\n",
    ")\n",
    "\n",
    "## Step 3: Run Optimization\n",
    "allocation_result = allocator.optimize()\n",
    "\n",
    "## Step 4: Analyze Results\n",
    "print(\"\\nOptimization Results Summary:\")\n",
    "print(\"-\" * 50)\n",
    "print(f\"Model ID: {select_model}\")\n",
    "print(f\"Scenario: {allocation_result.scenario}\")\n",
    "print(f\"Use case: {allocation_result.usecase}\")\n",
    "\n",
    "results_df = pd.DataFrame(\n",
    "    {\n",
    "        \"Channel\": allocation_result.dt_optimOut.channels,\n",
    "        \"Initial Spend\": allocation_result.dt_optimOut.init_spend_unit,\n",
    "        \"Optimized Spend\": allocation_result.dt_optimOut.optm_spend_unit,\n",
    "        \"Spend Change %\": (\n",
    "            allocation_result.dt_optimOut.optm_spend_unit\n",
    "            / allocation_result.dt_optimOut.init_spend_unit\n",
    "            - 1\n",
    "        )\n",
    "        * 100,\n",
    "        \"Initial Response\": allocation_result.dt_optimOut.init_response_unit,\n",
    "        \"Optimized Response\": allocation_result.dt_optimOut.optm_response_unit,\n",
    "        \"Response Lift %\": (\n",
    "            allocation_result.dt_optimOut.optm_response_unit\n",
    "            / allocation_result.dt_optimOut.init_response_unit\n",
    "            - 1\n",
    "        )\n",
    "        * 100,\n",
    "    }\n",
    ")\n",
    "\n",
    "print(\"\\nDetailed Results:\")\n",
    "print(results_df.round(2))\n",
    "\n",
    "# Print additional diagnostics\n",
    "print(\"\\nOptimization Parameters:\")\n",
    "print(f\"Total budget: {allocator.constraints.budget_constraint:,.2f}\")\n",
    "print(\"Bound multiplier:\", allocator_params.channel_constr_multiplier)\n",
    "print(\"\\nConstraint Violations:\")\n",
    "violations = np.sum(\n",
    "    np.abs(allocation_result.dt_optimOut.optm_spend_unit - allocator.init_spend_unit)\n",
    ")\n",
    "print(f\"Total allocation adjustment: {violations:,.2f}\")"
   ]
  },
  {
   "cell_type": "code",
   "execution_count": null,
   "metadata": {},
   "outputs": [],
   "source": [
    "print(allocation_result.dt_optimOut)\n",
    "print(allocation_result.mainPoints)"
   ]
  },
  {
   "cell_type": "code",
   "execution_count": null,
   "metadata": {},
   "outputs": [],
   "source": [
    "from robyn.allocator_v2.visualization.allocator_plotter import (\n",
    "    AllocatorPlotter,\n",
    "    PlotConfig,\n",
    ")\n",
    "\n",
    "# After getting allocation results:\n",
    "plotter = AllocatorPlotter()\n",
    "\n",
    "config = PlotConfig(\n",
    "    title=f\"Robyn Allocator Results: {select_model}\",\n",
    "    metric=\"ROAS\" if mmm_data.mmmdata_spec.dep_var_type == \"revenue\" else \"CPA\",\n",
    "    interval_type=mmm_data.mmmdata_spec.interval_type,\n",
    "    model_id=select_model,\n",
    "    # errors=f\"Adj.R2: train = {rsq_train:.4f}, val = {rsq_val:.4f}\",\n",
    "    window_start=allocation_result.dt_optimOut.date_min[0],\n",
    "    window_end=allocation_result.dt_optimOut.date_max[0],\n",
    "    scenario=allocation_result.scenario,\n",
    ")\n",
    "\n",
    "plots = plotter.create_plots(\n",
    "    allocation_result=allocation_result,\n",
    "    config=config,\n",
    "    export=False,\n",
    "    # plot_folder=\"~/Desktop/robyn_plots\",\n",
    ")\n",
    "\n",
    "# Display plots\n",
    "for name, fig in plots.items():\n",
    "    plt.figure(fig.number)\n",
    "    plt.show()"
   ]
  },
  {
   "cell_type": "markdown",
   "metadata": {},
   "source": [
    "### Scenario 2: Max Response with Custom Settings"
   ]
  },
  {
   "cell_type": "markdown",
   "metadata": {},
   "source": [
    "### Scenario 3: Target Efficiency\n",
    "Optimize allocation based on target ROI/CPA."
   ]
  },
  {
   "cell_type": "markdown",
   "metadata": {},
   "source": [
    "### Scenario 4: Custom Target Efficiency"
   ]
  }
 ],
 "metadata": {
  "kernelspec": {
   "display_name": ".venv",
   "language": "python",
   "name": "python3"
  },
  "language_info": {
   "codemirror_mode": {
    "name": "ipython",
    "version": 3
   },
   "file_extension": ".py",
   "mimetype": "text/x-python",
   "name": "python",
   "nbconvert_exporter": "python",
   "pygments_lexer": "ipython3",
   "version": "3.9.6"
  }
 },
 "nbformat": 4,
 "nbformat_minor": 2
}
