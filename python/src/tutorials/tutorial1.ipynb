{
 "cells": [
  {
   "cell_type": "markdown",
   "id": "53f2f84a",
   "metadata": {},
   "source": [
    "# Robyn: Marketing Mix Modeling Application\n",
    "\n",
    "This notebook demonstrates the usage of Robyn, a Marketing Mix Modeling (MMM) application. We'll go through the main steps of initializing the model, running it, and performing budget allocation.\n"
   ]
  },
  {
   "cell_type": "markdown",
   "id": "6fd474b7",
   "metadata": {},
   "source": [
    "\n",
    "## 1. Import Required Libraries and Create Synthetic Data\n",
    "\n",
    "First, let's import the necessary libraries and create some synthetic data for our demonstration."
   ]
  },
  {
   "cell_type": "code",
   "execution_count": 7,
   "id": "eb8146e8",
   "metadata": {},
   "outputs": [],
   "source": [
    "\n",
    "import pandas as pd\n",
    "import numpy as np\n",
    "from robyn.robyn import Robyn\n",
    "from robyn.data.entities.mmmdata import MMMData\n",
    "from robyn.data.entities.holidays_data import HolidaysData\n",
    "from robyn.data.entities.hyperparameters import Hyperparameters, ChannelHyperparameters\n",
    "from robyn.data.entities.calibration_input import CalibrationInput, ChannelCalibrationData\n",
    "from robyn.data.entities.enums import AdstockType, DependentVarType, CalibrationScope\n"
   ]
  },
  {
   "cell_type": "markdown",
   "id": "442024b2",
   "metadata": {},
   "source": [
    "## 2.1 Create sythetic Data"
   ]
  },
  {
   "cell_type": "code",
   "execution_count": 10,
   "id": "408ad24b",
   "metadata": {},
   "outputs": [
    {
     "name": "stdout",
     "output_type": "stream",
     "text": [
      "        date      revenue    tv_spend  radio_spend   ooh_spend  print_spend  \\\n",
      "0 2022-01-01  1107.593721  520.718411   273.286852  204.000368    96.519943   \n",
      "1 2022-01-02  1149.787409  526.713553   281.173467  216.762460   104.707355   \n",
      "2 2022-01-03  1005.619868  534.543814   285.887881  187.271391   102.059848   \n",
      "3 2022-01-04   883.611048  500.983979   238.078431  176.098482    86.769683   \n",
      "4 2022-01-05  1054.044261  531.387880   329.394673  211.436061   120.463787   \n",
      "\n",
      "   competitor_sales  temperature  \n",
      "0        841.390827    21.663736  \n",
      "1        770.213472    19.712684  \n",
      "2        832.305569    14.819071  \n",
      "3        928.915666    22.922471  \n",
      "4        736.308904    21.164749  \n"
     ]
    }
   ],
   "source": [
    "# Create synthetic data\n",
    "from datetime import datetime\n",
    "\n",
    "\n",
    "def create_synthetic_data(start_date, end_date):\n",
    "    date_range = pd.date_range(start=start_date, end=end_date, freq='D')\n",
    "    n = len(date_range)\n",
    "    \n",
    "    data = pd.DataFrame({\n",
    "        'date': date_range,\n",
    "        'revenue': np.random.normal(1000, 100, n),\n",
    "        'tv_spend': np.random.normal(500, 50, n),\n",
    "        'radio_spend': np.random.normal(300, 30, n),\n",
    "        'ooh_spend': np.random.normal(200, 20, n),\n",
    "        'print_spend': np.random.normal(100, 10, n),\n",
    "        'competitor_sales': np.random.normal(800, 80, n),\n",
    "        'temperature': np.random.normal(20, 5, n)\n",
    "    })\n",
    "    \n",
    "    return data\n",
    "\n",
    "# Generate synthetic data\n",
    "start_date = datetime(2022, 1, 1)\n",
    "end_date = datetime(2022, 12, 31)\n",
    "synthetic_data = create_synthetic_data(start_date, end_date)\n",
    "\n",
    "# Display the first few rows of the synthetic data\n",
    "print(synthetic_data.head())"
   ]
  },
  {
   "cell_type": "markdown",
   "id": "0a1cce14",
   "metadata": {},
   "source": [
    "## 2.2. Initialize Robyn\n",
    "\n",
    "Now, let's initialize Robyn with our synthetic data and configuration."
   ]
  },
  {
   "cell_type": "code",
   "execution_count": 11,
   "id": "3a272787",
   "metadata": {},
   "outputs": [
    {
     "ename": "TypeError",
     "evalue": "HolidaysData.__init__() got an unexpected keyword argument 'day_interval'",
     "output_type": "error",
     "traceback": [
      "\u001b[0;31m---------------------------------------------------------------------------\u001b[0m",
      "\u001b[0;31mTypeError\u001b[0m                                 Traceback (most recent call last)",
      "Cell \u001b[0;32mIn[11], line 17\u001b[0m\n\u001b[1;32m     14\u001b[0m mmm_data \u001b[38;5;241m=\u001b[39m MMMData(synthetic_data, mmm_data_spec)\n\u001b[1;32m     16\u001b[0m \u001b[38;5;66;03m# Create HolidaysData (using dummy data for demonstration)\u001b[39;00m\n\u001b[0;32m---> 17\u001b[0m holidays_data \u001b[38;5;241m=\u001b[39m \u001b[43mHolidaysData\u001b[49m\u001b[43m(\u001b[49m\n\u001b[1;32m     18\u001b[0m \u001b[43m    \u001b[49m\u001b[43mdt_holidays\u001b[49m\u001b[38;5;241;43m=\u001b[39;49m\u001b[43mpd\u001b[49m\u001b[38;5;241;43m.\u001b[39;49m\u001b[43mDataFrame\u001b[49m\u001b[43m(\u001b[49m\u001b[43m)\u001b[49m\u001b[43m,\u001b[49m\n\u001b[1;32m     19\u001b[0m \u001b[43m    \u001b[49m\u001b[43mprophet_vars\u001b[49m\u001b[38;5;241;43m=\u001b[39;49m\u001b[43m[\u001b[49m\u001b[43m]\u001b[49m\u001b[43m,\u001b[49m\n\u001b[1;32m     20\u001b[0m \u001b[43m    \u001b[49m\u001b[43mprophet_signs\u001b[49m\u001b[38;5;241;43m=\u001b[39;49m\u001b[43m[\u001b[49m\u001b[43m]\u001b[49m\u001b[43m,\u001b[49m\n\u001b[1;32m     21\u001b[0m \u001b[43m    \u001b[49m\u001b[43mprophet_country\u001b[49m\u001b[38;5;241;43m=\u001b[39;49m\u001b[38;5;124;43m\"\u001b[39;49m\u001b[38;5;124;43mUS\u001b[39;49m\u001b[38;5;124;43m\"\u001b[39;49m\u001b[43m,\u001b[49m\n\u001b[1;32m     22\u001b[0m \u001b[43m    \u001b[49m\u001b[43mday_interval\u001b[49m\u001b[38;5;241;43m=\u001b[39;49m\u001b[38;5;241;43m1\u001b[39;49m\n\u001b[1;32m     23\u001b[0m \u001b[43m)\u001b[49m\n\u001b[1;32m     25\u001b[0m \u001b[38;5;66;03m# Create Hyperparameters\u001b[39;00m\n\u001b[1;32m     26\u001b[0m hyperparameters \u001b[38;5;241m=\u001b[39m Hyperparameters({\n\u001b[1;32m     27\u001b[0m     \u001b[38;5;124m\"\u001b[39m\u001b[38;5;124mtv_spend\u001b[39m\u001b[38;5;124m\"\u001b[39m: ChannelHyperparameters(\n\u001b[1;32m     28\u001b[0m         thetas\u001b[38;5;241m=\u001b[39m[\u001b[38;5;241m0.1\u001b[39m, \u001b[38;5;241m0.9\u001b[39m],\n\u001b[0;32m   (...)\u001b[0m\n\u001b[1;32m     54\u001b[0m     ),\n\u001b[1;32m     55\u001b[0m })\n",
      "\u001b[0;31mTypeError\u001b[0m: HolidaysData.__init__() got an unexpected keyword argument 'day_interval'"
     ]
    }
   ],
   "source": [
    "# Initialize Robyn\n",
    "robyn = Robyn(working_dir=\"~/temp/robyn\")\n",
    "\n",
    "# Create MMMData\n",
    "mmm_data_spec = MMMData.MMMDataSpec(\n",
    "    dep_var=\"revenue\",\n",
    "    dep_var_type=DependentVarType.REVENUE,\n",
    "    date_var=\"date\",\n",
    "    paid_media_spends=[\"tv_spend\", \"radio_spend\", \"ooh_spend\", \"print_spend\"],\n",
    "    paid_media_vars=[\"tv_spend\", \"radio_spend\", \"ooh_spend\", \"print_spend\"],\n",
    "    context_vars=[\"competitor_sales\", \"temperature\"],\n",
    ")\n",
    "\n",
    "mmm_data = MMMData(synthetic_data, mmm_data_spec)\n",
    "\n",
    "# Create HolidaysData (using dummy data for demonstration)\n",
    "holidays_data = HolidaysData(\n",
    "    dt_holidays=pd.DataFrame(),\n",
    "    prophet_vars=[],\n",
    "    prophet_signs=[],\n",
    "    prophet_country=\"US\",\n",
    ")\n",
    "\n",
    "# Create Hyperparameters\n",
    "hyperparameters = Hyperparameters({\n",
    "    \"tv_spend\": ChannelHyperparameters(\n",
    "        thetas=[0.1, 0.9],\n",
    "        alphas=[0.5, 3.0],\n",
    "        gammas=[0.3, 1.0],\n",
    "        shapes=[0.0001, 2.0],\n",
    "        scales=[0.0001, 2.0],\n",
    "    ),\n",
    "    \"radio_spend\": ChannelHyperparameters(\n",
    "        thetas=[0.1, 0.9],\n",
    "        alphas=[0.5, 3.0],\n",
    "        gammas=[0.3, 1.0],\n",
    "        shapes=[0.0001, 2.0],\n",
    "        scales=[0.0001, 2.0],\n",
    "    ),\n",
    "    \"ooh_spend\": ChannelHyperparameters(\n",
    "        thetas=[0.1, 0.9],\n",
    "        alphas=[0.5, 3.0],\n",
    "        gammas=[0.3, 1.0],\n",
    "        shapes=[0.0001, 2.0],\n",
    "        scales=[0.0001, 2.0],\n",
    "    ),\n",
    "    \"print_spend\": ChannelHyperparameters(\n",
    "        thetas=[0.1, 0.9],\n",
    "        alphas=[0.5, 3.0],\n",
    "        gammas=[0.3, 1.0],\n",
    "        shapes=[0.0001, 2.0],\n",
    "        scales=[0.0001, 2.0],\n",
    "    ),\n",
    "})\n",
    "\n",
    "# Create CalibrationInput (using dummy data for demonstration)\n",
    "calibration_input = CalibrationInput({\n",
    "    \"tv_spend\": ChannelCalibrationData(\n",
    "        lift_start_date=pd.Timestamp(\"2022-03-01\"),\n",
    "        lift_end_date=pd.Timestamp(\"2022-03-15\"),\n",
    "        lift_abs=10000,\n",
    "        spend=50000,\n",
    "        confidence=0.9,\n",
    "        metric=\"revenue\",\n",
    "        calibration_scope=CalibrationScope.IMMEDIATE\n",
    "    )\n",
    "})\n",
    "\n",
    "# Initialize Robyn\n",
    "robyn.initialize(\n",
    "    mmm_data=mmm_data,\n",
    "    holidays_data=holidays_data,\n",
    "    hyperparameters=hyperparameters,\n",
    "    calibration_input=calibration_input\n",
    ")\n",
    "\n",
    "print(\"Robyn initialized successfully!\")"
   ]
  },
  {
   "cell_type": "markdown",
   "id": "d836832f",
   "metadata": {},
   "source": [
    "## 3. Run Robyn Model\n",
    "\n",
    "After initialization, we can run the Robyn model."
   ]
  },
  {
   "cell_type": "code",
   "execution_count": null,
   "id": "08cc2ddb",
   "metadata": {},
   "outputs": [],
   "source": []
  },
  {
   "cell_type": "markdown",
   "id": "8ede6c0d",
   "metadata": {},
   "source": [
    "## 4. Budget Allocation\n",
    "\n",
    "Finally, let's perform budget allocation using the trained model."
   ]
  },
  {
   "cell_type": "code",
   "execution_count": null,
   "id": "3db5eae9",
   "metadata": {},
   "outputs": [],
   "source": [
    "\n"
   ]
  },
  {
   "cell_type": "markdown",
   "id": "e87e98ff",
   "metadata": {},
   "source": [
    "This notebook demonstrates the basic workflow of using Robyn for Marketing Mix Modeling. In a real-world scenario, you would need to replace the synthetic data with your actual marketing data and adjust the parameters accordingly.\n",
    "\n",
    "Remember to explore the full capabilities of Robyn, including model evaluation, visualization, and interpretation of results, which are beyond the scope of this basic demonstration."
   ]
  }
 ],
 "metadata": {
  "kernelspec": {
   "display_name": "Python 3 (ipykernel)",
   "language": "python",
   "name": "python3"
  },
  "language_info": {
   "codemirror_mode": {
    "name": "ipython",
    "version": 3
   },
   "file_extension": ".py",
   "mimetype": "text/x-python",
   "name": "python",
   "nbconvert_exporter": "python",
   "pygments_lexer": "ipython3",
   "version": "3.12.2"
  }
 },
 "nbformat": 4,
 "nbformat_minor": 5
}
