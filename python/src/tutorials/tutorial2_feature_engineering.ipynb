{
 "cells": [
  {
   "cell_type": "markdown",
   "id": "53f2f84a",
   "metadata": {},
   "source": [
    "# Robyn: Marketing Mix Modeling Application\n",
    "\n",
    "This notebook demonstrates the usage of Robyn, a Marketing Mix Modeling (MMM) application. \n",
    "We'll go through the main steps of performing robyn_inputs and robyn_engineering.\n"
   ]
  },
  {
   "cell_type": "markdown",
   "id": "6fd474b7",
   "metadata": {},
   "source": [
    "\n",
    "## 1. Import Required Libraries. Define Paths.\n",
    "\n",
    "First, be sure to setup your virtual environment. Be sure to switch over to your new environment in this notebook. \n",
    "\n",
    "-```cd {root_folder}```\n",
    "\n",
    "-```python3 -m yourvenv```\n",
    "\n",
    "-```source yourvenv/bin/activate```\n",
    "\n",
    "-```cd Robyn/python```\n",
    "\n",
    "-```pip install -r requirements.txt```\n",
    "\n",
    "\n",
    "Then import the necessary libraries. Make sure to define your paths below.\n",
    "\n"
   ]
  },
  {
   "cell_type": "code",
   "execution_count": 1,
   "id": "5930e4b4",
   "metadata": {},
   "outputs": [],
   "source": [
    "import sys\n",
    "\n",
    "base_path = \"/Users/yijuilee/project_robyn/robynpy_interfaces/Robyn/R/data\"\n",
    "python_path = \"/Users/yijuilee/robynpy_release_reviews/Robyn/python/src\"\n",
    "sys.path.append(base_path)\n",
    "sys.path.append(python_path)"
   ]
  },
  {
   "cell_type": "code",
   "execution_count": 2,
   "id": "eb8146e8",
   "metadata": {},
   "outputs": [
    {
     "name": "stderr",
     "output_type": "stream",
     "text": [
      "/Users/yijuilee/robynpy_release_reviews/robynvenv/lib/python3.9/site-packages/tqdm/auto.py:21: TqdmWarning: IProgress not found. Please update jupyter and ipywidgets. See https://ipywidgets.readthedocs.io/en/stable/user_install.html\n",
      "  from .autonotebook import tqdm as notebook_tqdm\n"
     ]
    }
   ],
   "source": [
    "import sys\n",
    "import os\n",
    "import numpy as np\n",
    "import pandas as pd\n",
    "import pyreadr\n",
    "from typing import Dict, Any\n",
    "from robyn.data.entities.mmmdata import MMMData\n",
    "from robyn.data.entities.holidays_data import HolidaysData\n",
    "from robyn.data.entities.hyperparameters import Hyperparameters\n",
    "from robyn.modeling.entities.modelrun_trials_config import TrialsConfig\n",
    "from robyn.modeling.model_executor import ModelExecutor\n",
    "from robyn.modeling.ridge_model_builder import RidgeModelBuilder\n",
    "from robyn.modeling.entities.enums import NevergradAlgorithm, Models\n",
    "from robyn.modeling.feature_engineering import FeaturizedMMMData, FeatureEngineering"
   ]
  },
  {
   "cell_type": "markdown",
   "id": "442024b2",
   "metadata": {},
   "source": [
    "## 2.1 Load Mock R data\n",
    "\n",
    "We need to set the base path for the data directory.\n",
    "Create a .env file in the same directory as your notebook and put in define the path to the data dir.\n",
    "for example: ROBYN_BASE_PATH=.../Robyn/R/data"
   ]
  },
  {
   "cell_type": "code",
   "execution_count": 3,
   "id": "408ad24b",
   "metadata": {},
   "outputs": [
    {
     "ename": "OSError",
     "evalue": "Please set the ROBYN_BASE_PATH environment variable",
     "output_type": "error",
     "traceback": [
      "\u001b[0;31m---------------------------------------------------------------------------\u001b[0m",
      "\u001b[0;31mOSError\u001b[0m                                   Traceback (most recent call last)",
      "Cell \u001b[0;32mIn[3], line 17\u001b[0m\n\u001b[1;32m     12\u001b[0m     dt_prophet_holidays \u001b[38;5;241m=\u001b[39m result_holidays[\u001b[38;5;124m\"\u001b[39m\u001b[38;5;124mdt_prophet_holidays\u001b[39m\u001b[38;5;124m\"\u001b[39m]\n\u001b[1;32m     14\u001b[0m     \u001b[38;5;28;01mreturn\u001b[39;00m {\u001b[38;5;124m\"\u001b[39m\u001b[38;5;124mdt_simulated_weekly\u001b[39m\u001b[38;5;124m\"\u001b[39m: dt_simulated_weekly, \u001b[38;5;124m\"\u001b[39m\u001b[38;5;124mdt_prophet_holidays\u001b[39m\u001b[38;5;124m\"\u001b[39m: dt_prophet_holidays}\n\u001b[0;32m---> 17\u001b[0m data \u001b[38;5;241m=\u001b[39m \u001b[43mload_data\u001b[49m\u001b[43m(\u001b[49m\u001b[43m)\u001b[49m\n",
      "Cell \u001b[0;32mIn[3], line 4\u001b[0m, in \u001b[0;36mload_data\u001b[0;34m()\u001b[0m\n\u001b[1;32m      2\u001b[0m base_path \u001b[38;5;241m=\u001b[39m os\u001b[38;5;241m.\u001b[39mgetenv(\u001b[38;5;124m\"\u001b[39m\u001b[38;5;124mROBYN_BASE_PATH\u001b[39m\u001b[38;5;124m\"\u001b[39m)\n\u001b[1;32m      3\u001b[0m \u001b[38;5;28;01mif\u001b[39;00m \u001b[38;5;129;01mnot\u001b[39;00m base_path:\n\u001b[0;32m----> 4\u001b[0m     \u001b[38;5;28;01mraise\u001b[39;00m \u001b[38;5;167;01mEnvironmentError\u001b[39;00m(\u001b[38;5;124m\"\u001b[39m\u001b[38;5;124mPlease set the ROBYN_BASE_PATH environment variable\u001b[39m\u001b[38;5;124m\"\u001b[39m)\n\u001b[1;32m      6\u001b[0m simulated_weekly_path \u001b[38;5;241m=\u001b[39m os\u001b[38;5;241m.\u001b[39mpath\u001b[38;5;241m.\u001b[39mjoin(base_path, \u001b[38;5;124m\"\u001b[39m\u001b[38;5;124mdt_simulated_weekly.RData\u001b[39m\u001b[38;5;124m\"\u001b[39m)\n\u001b[1;32m      7\u001b[0m prophet_holidays_path \u001b[38;5;241m=\u001b[39m os\u001b[38;5;241m.\u001b[39mpath\u001b[38;5;241m.\u001b[39mjoin(base_path, \u001b[38;5;124m\"\u001b[39m\u001b[38;5;124mdt_prophet_holidays.RData\u001b[39m\u001b[38;5;124m\"\u001b[39m)\n",
      "\u001b[0;31mOSError\u001b[0m: Please set the ROBYN_BASE_PATH environment variable"
     ]
    }
   ],
   "source": [
    "def load_data() -> Dict[str, pd.DataFrame]:\n",
    "    if not base_path:\n",
    "        raise EnvironmentError(\"Please set the ROBYN_BASE_PATH environment variable\")\n",
    "\n",
    "    simulated_weekly_path = os.path.join(base_path, \"dt_simulated_weekly.RData\")\n",
    "    prophet_holidays_path = os.path.join(base_path, \"dt_prophet_holidays.RData\")\n",
    "\n",
    "    result = pyreadr.read_r(simulated_weekly_path)\n",
    "    dt_simulated_weekly = result[\"dt_simulated_weekly\"]\n",
    "    result_holidays = pyreadr.read_r(prophet_holidays_path)\n",
    "    dt_prophet_holidays = result_holidays[\"dt_prophet_holidays\"]\n",
    "\n",
    "    return {\"dt_simulated_weekly\": dt_simulated_weekly, \"dt_prophet_holidays\": dt_prophet_holidays}\n",
    "\n",
    "\n",
    "data = load_data()"
   ]
  },
  {
   "cell_type": "markdown",
   "id": "54d0c5ac",
   "metadata": {},
   "source": [
    "## Setup MMM Data\n",
    "\n",
    "We will now set up the MMM data specification which includes defining the dependent variable, independent variables, and the time window for analysis."
   ]
  },
  {
   "cell_type": "code",
   "execution_count": null,
   "id": "223d0d0f",
   "metadata": {},
   "outputs": [],
   "source": [
    "def setup_mmm_data(data: Dict[str, pd.DataFrame]) -> MMMData:\n",
    "    dt_simulated_weekly = data[\"dt_simulated_weekly\"]\n",
    "\n",
    "    mmm_data_spec = MMMData.MMMDataSpec(\n",
    "        dep_var=\"revenue\",\n",
    "        dep_var_type=\"revenue\",\n",
    "        date_var=\"DATE\",\n",
    "        context_vars=[\"competitor_sales_B\", \"events\"],\n",
    "        paid_media_spends=[\"tv_S\", \"ooh_S\", \"print_S\", \"facebook_S\", \"search_S\"],\n",
    "        factor_vars=[\"events\"],\n",
    "        paid_media_vars=[\"tv_S\", \"ooh_S\", \"print_S\", \"facebook_I\", \"search_clicks_P\"],\n",
    "        organic_vars=[\"newsletter\"],\n",
    "        window_start=\"2016-01-01\",\n",
    "        window_end=\"2018-12-31\",\n",
    "    )\n",
    "\n",
    "    return MMMData(data=dt_simulated_weekly, mmmdata_spec=mmm_data_spec)\n",
    "\n",
    "\n",
    "mmm_data = setup_mmm_data(data)"
   ]
  },
  {
   "cell_type": "markdown",
   "id": "ea1fa54e",
   "metadata": {},
   "source": [
    "## Feature Preprocessing\n",
    "\n",
    "We will perform feature engineering to prepare the data for modeling. This includes transformations like adstock and other preprocessing steps."
   ]
  },
  {
   "cell_type": "code",
   "execution_count": null,
   "id": "0d1d1118",
   "metadata": {},
   "outputs": [],
   "source": [
    "def setup_hyperparameters() -> Hyperparameters:\n",
    "    return Hyperparameters(\n",
    "        hyperparameters={\n",
    "            \"facebook_S_alphas\": [0.5, 3],\n",
    "            \"facebook_S_gammas\": [0.3, 1],\n",
    "            \"facebook_S_thetas\": [0, 0.3],\n",
    "            \"print_S_alphas\": [0.5, 3],\n",
    "            \"print_S_gammas\": [0.3, 1],\n",
    "            \"print_S_thetas\": [0.1, 0.4],\n",
    "            \"tv_S_alphas\": [0.5, 3],\n",
    "            \"tv_S_gammas\": [0.3, 1],\n",
    "            \"tv_S_thetas\": [0.3, 0.8],\n",
    "            \"search_S_alphas\": [0.5, 3],\n",
    "            \"search_S_gammas\": [0.3, 1],\n",
    "            \"search_S_thetas\": [0, 0.3],\n",
    "            \"ooh_S_alphas\": [0.5, 3],\n",
    "            \"ooh_S_gammas\": [0.3, 1],\n",
    "            \"ooh_S_thetas\": [0.1, 0.4],\n",
    "            \"newsletter_alphas\": [0.5, 3],\n",
    "            \"newsletter_gammas\": [0.3, 1],\n",
    "            \"newsletter_thetas\": [0.1, 0.4],\n",
    "        },\n",
    "        adstock=\"geometric\",\n",
    "        lambda_=0.0,\n",
    "        train_size=[0.5, 0.8],\n",
    "    )\n",
    "\n",
    "\n",
    "# Setup Hyperparameters\n",
    "hyperparameters = setup_hyperparameters()\n",
    "print(\"Hyperparameters setup complete.\")"
   ]
  },
  {
   "cell_type": "code",
   "execution_count": null,
   "id": "948cceb8",
   "metadata": {},
   "outputs": [],
   "source": [
    "# Create HolidaysData object\n",
    "holidays_data = HolidaysData(\n",
    "    dt_holidays=data[\"dt_prophet_holidays\"],\n",
    "    prophet_vars=[\"trend\", \"season\", \"holiday\"],\n",
    "    prophet_country=\"DE\",\n",
    "    prophet_signs=[\"default\", \"default\", \"default\"],\n",
    ")"
   ]
  },
  {
   "cell_type": "code",
   "execution_count": null,
   "id": "fbac563a",
   "metadata": {},
   "outputs": [],
   "source": [
    "# Setup FeaturizedMMMData\n",
    "feature_engineering = FeatureEngineering(mmm_data, hyperparameters, holidays_data)\n",
    "featurized_mmm_data = feature_engineering.perform_feature_engineering()"
   ]
  },
  {
   "cell_type": "code",
   "execution_count": null,
   "id": "1be81245",
   "metadata": {},
   "outputs": [],
   "source": [
    "from robyn.visualization.feature_visualization import FeaturePlotter\n",
    "import matplotlib.pyplot as plt\n",
    "\n",
    "# Create a FeaturePlotter instance\n",
    "feature_plotter = FeaturePlotter(mmm_data, hyperparameters)\n",
    "\n",
    "\n",
    "# Plot spend-exposure relationship for each channel\n",
    "for channel in mmm_data.mmmdata_spec.paid_media_spends:\n",
    "    try:\n",
    "        fig = feature_plotter.plot_spend_exposure(featurized_mmm_data, channel)\n",
    "        plt.show()\n",
    "    except ValueError as e:\n",
    "        print(f\"Skipping {channel}: {str(e)}\")"
   ]
  },
  {
   "cell_type": "markdown",
   "id": "93010f61",
   "metadata": {},
   "source": []
  },
  {
   "cell_type": "code",
   "execution_count": null,
   "id": "695db7bb",
   "metadata": {},
   "outputs": [],
   "source": [
    "print(\"After Prophet fitting Python data:\")\n",
    "print(featurized_mmm_data.dt_mod[[\"trend\", \"season\", \"holiday\", \"events\"]].describe())"
   ]
  },
  {
   "cell_type": "code",
   "execution_count": null,
   "id": "2b4e78f7",
   "metadata": {},
   "outputs": [],
   "source": [
    "featurized_mmm_data.dt_mod[\"events\"].unique()"
   ]
  },
  {
   "cell_type": "code",
   "execution_count": null,
   "id": "036a9dfc",
   "metadata": {},
   "outputs": [],
   "source": [
    "from utils.data_mapper import export_data, import_data, save_data_to_json, load_data_from_json\n",
    "from utils.compare_data import compare_featurized_mmm_data\n",
    "\n",
    "# # Load data from JSON\n",
    "# loaded_data = load_data_from_json(\n",
    "#     \"/Users/yijuilee/project_robyn/robynpy_interfaces/Robyn/python/src/tutorials/data/R/exported_data.json\"\n",
    "# )\n",
    "# imported_data = import_data(loaded_data)\n",
    "\n",
    "compare_featurized_mmm_data(\n",
    "    \"/Users/yijuilee/project_robyn/robynpy_interfaces/Robyn/python/src/tutorials/data/R/exported_data.json\",\n",
    "    featurized_mmm_data,\n",
    ")"
   ]
  },
  {
   "cell_type": "code",
   "execution_count": null,
   "id": "f1817386",
   "metadata": {},
   "outputs": [],
   "source": [
    "print(\"After Prophet fitting Python data:\")\n",
    "print(featurized_mmm_data.dt_mod[[\"trend\", \"season\", \"holiday\"]].describe())"
   ]
  }
 ],
 "metadata": {
  "kernelspec": {
   "display_name": "Python 3 (ipykernel)",
   "language": "python",
   "name": "python3"
  },
  "language_info": {
   "codemirror_mode": {
    "name": "ipython",
    "version": 3
   },
   "file_extension": ".py",
   "mimetype": "text/x-python",
   "name": "python",
   "nbconvert_exporter": "python",
   "pygments_lexer": "ipython3",
   "version": "3.9.6"
  }
 },
 "nbformat": 4,
 "nbformat_minor": 5
}
