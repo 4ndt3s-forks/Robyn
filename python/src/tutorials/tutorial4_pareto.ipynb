{
 "cells": [
  {
   "cell_type": "code",
   "execution_count": null,
   "metadata": {},
   "outputs": [],
   "source": [
    "# Test Pareto Optimizer\n",
    "\n",
    "import pandas as pd\n",
    "import json\n",
    "from typing import Dict, Any, List\n",
    "import numpy as np\n",
    "from datetime import datetime, timedelta\n",
    "from robyn.data.entities.mmmdata import MMMData\n",
    "from robyn.modeling.entities.modeloutputs import ModelOutputs, Trial\n",
    "from robyn.modeling.pareto.pareto_optimizer import ParetoOptimizer, ParetoData\n",
    "from robyn.data.entities.enums import DependentVarType, PaidMediaSigns, OrganicSigns, ContextSigns\n",
    "\n",
    "from utils.data_mapper import import_data, load_data_from_json\n"
   ]
  },
  {
   "cell_type": "code",
   "execution_count": null,
   "metadata": {},
   "outputs": [],
   "source": [
    "# Load data from JSON\n",
    "loaded_data = load_data_from_json(\n",
    "    \"/Users/funny/Documents/git/Robyn/python/src/tutorials/resources/test_data.json\"\n",
    "    # \"/Users/funny/Downloads/exported_data.json\"\n",
    ")\n",
    "imported_data = import_data(loaded_data)\n",
    "model_outputs = imported_data[\"model_outputs\"]\n",
    "display((model_outputs.hyper_bound_ng))\n"
   ]
  },
  {
   "cell_type": "code",
   "execution_count": 3,
   "metadata": {},
   "outputs": [],
   "source": [
    "\n",
    "mmm_data = imported_data[\"mmm_data\"]\n",
    "# display(mmm_data.data.head())\n",
    "# Display Model Outputs\n",
    "\n",
    "model_outputs = imported_data[\"model_outputs\"]\n",
    "# display((model_outputs.trials[0].result_hyp_param))\n",
    "\n",
    "hyperparameters = imported_data[\"hyperparameters\"]\n",
    "# display(hyperparameters)\n",
    "\n",
    "featurized_mmm_data = imported_data[\"featurized_mmm_data\"]\n",
    "\n",
    "holidays_data = imported_data[\"holidays_data\"]"
   ]
  },
  {
   "cell_type": "code",
   "execution_count": 4,
   "metadata": {},
   "outputs": [],
   "source": [
    "\n",
    "# 3. Create ParetoOptimizer instance\n",
    "pareto_optimizer = ParetoOptimizer(mmm_data, model_outputs, hyperparameters, featurized_mmm_data, holidays_data)"
   ]
  },
  {
   "cell_type": "code",
   "execution_count": 5,
   "metadata": {},
   "outputs": [],
   "source": [
    "\n",
    "# 4. Run optimize function\n",
    "pareto_result = pareto_optimizer.optimize(pareto_fronts=\"auto\", min_candidates=3)\n"
   ]
  },
  {
   "cell_type": "code",
   "execution_count": 7,
   "metadata": {},
   "outputs": [],
   "source": [
    "# def serialize_data(aggregated_data: dict, pareto_data: ParetoData) -> str:\n",
    "#     # Convert aggregated_data DataFrames to dictionaries\n",
    "#     json_aggregated_data = {\n",
    "#         key: value.to_dict(orient=\"records\") if value is not None else None for key, value in aggregated_data.items()\n",
    "#     }\n",
    "\n",
    "#     # Convert pareto_data to dictionary\n",
    "#     json_pareto_data = {\n",
    "#             \"decomp_spend_dist\": pareto_data.decomp_spend_dist.to_dict(orient=\"records\"),\n",
    "#             \"result_hyp_param\": pareto_data.result_hyp_param.to_dict(orient=\"records\"),\n",
    "#             \"x_decomp_agg\": pareto_data.x_decomp_agg.to_dict(orient=\"records\"),\n",
    "#             \"pareto_fronts\": pareto_data.pareto_fronts,\n",
    "#         }\n",
    "\n",
    "#     # Combine both into a single dictionary\n",
    "#     combined_data = {\n",
    "#         \"aggregated_data\": json_aggregated_data,\n",
    "#         \"pareto_data\": json_pareto_data,\n",
    "#     }\n",
    "\n",
    "#     # Serialize to JSON\n",
    "#     return json.dumps(combined_data)\n",
    "\n",
    "# def export_to_json_file(json_string: str, filename: str) -> None:\n",
    "#     \"\"\"Export the JSON string to a file.\"\"\"\n",
    "#     with open(filename, 'w') as json_file:\n",
    "#         json_file.write(json_string)\n",
    "\n",
    "# # Example usage\n",
    "# # Assuming pareto_result is defined and contains the necessary data\n",
    "# aggregated_data = pareto_result[\"aggregated_data\"]\n",
    "# pareto_data = pareto_result[\"pareto_data\"]\n",
    "\n",
    "# # Serialize\n",
    "# json_output = serialize_data(aggregated_data, pareto_data)\n",
    "# print(\"Serialized JSON:\", json_output)\n",
    "\n",
    "# # Export to JSON file\n",
    "# export_to_json_file(json_output, 'output_data.json')\n"
   ]
  },
  {
   "cell_type": "code",
   "execution_count": 8,
   "metadata": {},
   "outputs": [],
   "source": [
    "def import_from_json_file(filename: str) -> str:\n",
    "    \"\"\"Read JSON data from a file.\"\"\"\n",
    "    with open(filename, 'r') as json_file:\n",
    "        return json_file.read()\n",
    "\n",
    "\n",
    "def deserialize_data(json_string: str) -> Dict[str, Any]:\n",
    "    # Parse the JSON string back into a dictionary\n",
    "    data = json.loads(json_string)\n",
    "\n",
    "    # Reconstruct aggregated_data\n",
    "    aggregated_data = {\n",
    "        key: pd.DataFrame(value) for key, value in data[\"aggregated_data\"].items()\n",
    "    }\n",
    "\n",
    "    # Reconstruct pareto_data\n",
    "    pareto_data_dict = data[\"pareto_data\"]\n",
    "    pareto_data = ParetoData(\n",
    "        decomp_spend_dist=pd.DataFrame(pareto_data_dict[\"decomp_spend_dist\"]),\n",
    "        result_hyp_param=pd.DataFrame(pareto_data_dict[\"result_hyp_param\"]),\n",
    "        x_decomp_agg=pd.DataFrame(pareto_data_dict[\"x_decomp_agg\"]),\n",
    "        pareto_fronts=pareto_data_dict[\"pareto_fronts\"],\n",
    "    )\n",
    "\n",
    "    return {\n",
    "        \"aggregated_data\": aggregated_data,\n",
    "        \"pareto_data\": pareto_data,\n",
    "    }\n",
    "\n",
    "# Import from JSON file\n",
    "imported_json_output = import_from_json_file('output_data.json')\n",
    "\n",
    "# Deserialize\n",
    "deserialized_data = deserialize_data(imported_json_output)"
   ]
  },
  {
   "cell_type": "code",
   "execution_count": null,
   "metadata": {},
   "outputs": [],
   "source": [
    "pareto_results = pareto_optimizer._generate_plot_data(deserialized_data[\"aggregated_data\"], deserialized_data[\"pareto_data\"])"
   ]
  },
  {
   "cell_type": "code",
   "execution_count": null,
   "metadata": {},
   "outputs": [],
   "source": [
    "# 5. Check results\n",
    "print(\"Pareto Optimization Results:\")\n",
    "print(f\"Number of Pareto fronts: {pareto_result.pareto_fronts}\")\n",
    "print(\"\\Hyper parameter solutions:\")\n",
    "print(pareto_result.result_hyp_param.head())\n",
    "\n",
    "print(\"\\nAggregated decomposition results:\")\n",
    "print(pareto_result.x_decomp_agg.head())\n",
    "\n",
    "# 6. Validate logic\n",
    "assert pareto_result.pareto_fronts == \"auto\" or isinstance(pareto_result.pareto_fronts, int), \"Invalid pareto_fronts value\"\n",
    "assert not pareto_result.result_hyp_param.empty, \"Empty result_hyp_param DataFrame\"\n",
    "assert not pareto_result.x_decomp_agg.empty, \"Empty x_decomp_agg DataFrame\"\n",
    "\n",
    "print(\"\\nAll assertions passed. The optimize function is working as expected.\")"
   ]
  }
 ],
 "metadata": {
  "kernelspec": {
   "display_name": ".venv",
   "language": "python",
   "name": "python3"
  },
  "language_info": {
   "codemirror_mode": {
    "name": "ipython",
    "version": 3
   },
   "file_extension": ".py",
   "mimetype": "text/x-python",
   "name": "python",
   "nbconvert_exporter": "python",
   "pygments_lexer": "ipython3",
   "version": "3.11.5"
  }
 },
 "nbformat": 4,
 "nbformat_minor": 2
}
